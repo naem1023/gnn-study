{
  "cells": [
    {
      "cell_type": "markdown",
      "metadata": {
        "id": "7bAzHzujcwMm"
      },
      "source": [
        "# Tutorial2: PyTorch basics"
      ]
    },
    {
      "cell_type": "markdown",
      "metadata": {
        "id": "PjwWkABtcwMo"
      },
      "source": [
        "## Outline"
      ]
    },
    {
      "cell_type": "markdown",
      "metadata": {
        "id": "VOhKSOuycwMo"
      },
      "source": [
        "- Datasets\n",
        "- Models\n",
        "- Losses\n",
        "- Optimizers"
      ]
    },
    {
      "cell_type": "markdown",
      "metadata": {
        "id": "0m3btf3ucwMo"
      },
      "source": [
        "Official resources:\n",
        "* [Deep Learning with PyTorch: a 60 Minute Blitz](https://pytorch.org/tutorials/beginner/deep_learning_60min_blitz.html)\n",
        "* [PyTorch documentation](https://pytorch.org/docs/stable/index.html)"
      ]
    },
    {
      "cell_type": "markdown",
      "metadata": {
        "id": "cdX_QaUjcwMp"
      },
      "source": [
        "Here no details, mostly visualization, with linear regression."
      ]
    },
    {
      "cell_type": "markdown",
      "metadata": {
        "id": "i2GTjm2acwMp"
      },
      "source": [
        "### Imports"
      ]
    },
    {
      "cell_type": "code",
      "execution_count": 1,
      "metadata": {
        "id": "nnp736QWcwMp",
        "outputId": "ac8213f6-99c3-4b9d-9884-591db4859467"
      },
      "outputs": [
        {
          "name": "stderr",
          "output_type": "stream",
          "text": [
            "/home/chris/anaconda3/envs/gnn/lib/python3.7/site-packages/tqdm/auto.py:22: TqdmWarning: IProgress not found. Please update jupyter and ipywidgets. See https://ipywidgets.readthedocs.io/en/stable/user_install.html\n",
            "  from .autonotebook import tqdm as notebook_tqdm\n"
          ]
        }
      ],
      "source": [
        "import numpy as np\n",
        "import torch\n",
        "import matplotlib.pyplot as plt\n",
        "from matplotlib import colors\n",
        "plt.rcParams.update({'font.size': 16})"
      ]
    },
    {
      "cell_type": "code",
      "execution_count": 2,
      "metadata": {
        "id": "e0_J_fNHcwMq",
        "outputId": "c0572cd4-62c0-4839-f968-95f4c7baeb3e"
      },
      "outputs": [
        {
          "data": {
            "text/plain": [
              "tensor([0., 0., 0., 0., 0., 0., 0., 0., 0., 0., 0., 0., 0., 0., 0., 0., 0., 0., 0., 0.])"
            ]
          },
          "execution_count": 2,
          "metadata": {},
          "output_type": "execute_result"
        }
      ],
      "source": [
        "x = torch.rand(20, 5)\n",
        "x\n",
        "((x.norm(dim=1) - 1).abs() < 1e-10).float()"
      ]
    },
    {
      "cell_type": "markdown",
      "metadata": {
        "id": "9vHFU5COcwMq"
      },
      "source": [
        "## Datasets"
      ]
    },
    {
      "cell_type": "markdown",
      "metadata": {
        "id": "MaxYUVGtcwMr"
      },
      "source": [
        "### A raw dataset"
      ]
    },
    {
      "cell_type": "markdown",
      "metadata": {
        "id": "xHE95K7ocwMr"
      },
      "source": [
        "The data are obtained from the model \n",
        "$$\n",
        "x \\mapsto y:=Ax + b\n",
        "$$\n",
        "with $x\\in\\mathbb R^{input\\_dim}$ and $y\\in\\mathbb R^{output\\_dim}$."
      ]
    },
    {
      "cell_type": "code",
      "execution_count": 3,
      "metadata": {
        "id": "WbLBBi8VcwMr"
      },
      "outputs": [],
      "source": [
        "input_dim = 1\n",
        "output_dim = 1\n",
        "\n",
        "A = 2 * np.random.rand(output_dim, input_dim) - 1\n",
        "b = 2 * np.random.rand(output_dim) - 1\n",
        "\n",
        "true_model = lambda x: A @ x + b"
      ]
    },
    {
      "cell_type": "markdown",
      "metadata": {
        "id": "Ca94j2aacwMr"
      },
      "source": [
        "We get a training set by randomly sampling and noisy observations\n",
        "\\begin{align*}\n",
        "&x_i \\sim U([-1, 1])\\\\\n",
        "&y_i = A x_i + b + \\nu_i\n",
        "\\end{align*}"
      ]
    },
    {
      "cell_type": "code",
      "execution_count": 4,
      "metadata": {
        "id": "IOf28Im3cwMr"
      },
      "outputs": [],
      "source": [
        "n_train = 1000\n",
        "noise_level = 0.04\n",
        "\n",
        "# Generate a random set of n_train samples\n",
        "X_train = np.random.rand(n_train, input_dim)\n",
        "y_train = np.array([true_model(x) for x in X_train])\n",
        "\n",
        "# Add some noise\n",
        "y_train += noise_level * np.random.standard_normal(size=y_train.shape)"
      ]
    },
    {
      "cell_type": "code",
      "execution_count": 5,
      "metadata": {
        "id": "HEMDp69NcwMs",
        "outputId": "5066def7-ff99-4c31-8214-c9f2b24d7d79"
      },
      "outputs": [
        {
          "data": {
            "image/png": "[encoded data removed]",
            "text/plain": [
              "<Figure size 432x288 with 1 Axes>"
            ]
          },
          "metadata": {
            "needs_background": "light"
          },
          "output_type": "display_data"
        }
      ],
      "source": [
        "if input_dim == output_dim == 1:\n",
        "    fig = plt.figure()\n",
        "    fig.clf()\n",
        "    ax = fig.gca()\n",
        "    ax.plot(X_train, y_train, '.')\n",
        "    ax.grid(True)\n",
        "    ax.set_xlabel('X_train')\n",
        "    ax.set_ylabel('y_train')"
      ]
    },
    {
      "cell_type": "markdown",
      "metadata": {
        "id": "fKX7_FQIcwMs"
      },
      "source": [
        "### PyTorch `Dataset`"
      ]
    },
    {
      "cell_type": "code",
      "execution_count": 6,
      "metadata": {
        "id": "53oSbSnEcwMs"
      },
      "outputs": [],
      "source": [
        "#%% Dataset to manage vector to vector data\n",
        "class VectorialDataset(torch.utils.data.Dataset):\n",
        "    def __init__(self, input_data, output_data):\n",
        "        super(VectorialDataset, self).__init__()\n",
        "        self.input_data = torch.tensor(input_data.astype('f'))\n",
        "        self.output_data = torch.tensor(output_data.astype('f'))\n",
        "        \n",
        "    def __len__(self):\n",
        "        return self.input_data.shape[0]\n",
        "    \n",
        "    def __getitem__(self, idx):\n",
        "        if torch.is_tensor(idx):\n",
        "            idx = idx.tolist()\n",
        "        sample = (self.input_data[idx, :], \n",
        "                  self.output_data[idx, :])  \n",
        "        return sample "
      ]
    },
    {
      "cell_type": "code",
      "execution_count": 7,
      "metadata": {
        "id": "UD4_eRyIcwMs"
      },
      "outputs": [],
      "source": [
        "training_set = VectorialDataset(input_data=X_train, output_data=y_train)"
      ]
    },
    {
      "cell_type": "code",
      "execution_count": 8,
      "metadata": {
        "id": "0DVXzZpicwMs",
        "outputId": "2aadc4e0-9624-411c-b3ba-c26641bc598c"
      },
      "outputs": [
        {
          "data": {
            "text/plain": [
              "1000"
            ]
          },
          "execution_count": 8,
          "metadata": {},
          "output_type": "execute_result"
        }
      ],
      "source": [
        "len(training_set)"
      ]
    },
    {
      "cell_type": "code",
      "execution_count": 9,
      "metadata": {
        "id": "fDJOz13XcwMs",
        "outputId": "b72bf493-a2ab-40ba-b0d2-9b402ed37a97"
      },
      "outputs": [
        {
          "data": {
            "text/plain": [
              "(tensor([[0.5787],\n",
              "         [0.6538]]),\n",
              " tensor([[0.8342],\n",
              "         [0.8956]]))"
            ]
          },
          "execution_count": 9,
          "metadata": {},
          "output_type": "execute_result"
        }
      ],
      "source": [
        "training_set[10:12]"
      ]
    },
    {
      "cell_type": "markdown",
      "metadata": {
        "id": "V9-FVa2CcwMt"
      },
      "source": [
        "Here almost useless, but think about e.g. images."
      ]
    },
    {
      "cell_type": "markdown",
      "metadata": {
        "id": "5y5p9DN2cwMt"
      },
      "source": [
        "### PyTorch `DataLoader`"
      ]
    },
    {
      "cell_type": "code",
      "execution_count": 10,
      "metadata": {
        "id": "JGFytBjncwMt"
      },
      "outputs": [],
      "source": [
        "batch_size = 120\n",
        "train_loader = torch.utils.data.DataLoader(training_set, \n",
        "                                           batch_size=batch_size, \n",
        "                                           shuffle=True)"
      ]
    },
    {
      "cell_type": "markdown",
      "metadata": {
        "id": "LAe1fV-ncwMt"
      },
      "source": [
        "The role of `batch_size`:"
      ]
    },
    {
      "cell_type": "code",
      "execution_count": 11,
      "metadata": {
        "id": "lZ_VX-ZjcwMt",
        "outputId": "997f85c3-c0e5-402a-8a62-c9869d57e746"
      },
      "outputs": [
        {
          "name": "stdout",
          "output_type": "stream",
          "text": [
            "Batch n.  1: input size=torch.Size([120, 1]), output size=torch.Size([120, 1])\n",
            "Batch n.  2: input size=torch.Size([120, 1]), output size=torch.Size([120, 1])\n",
            "Batch n.  3: input size=torch.Size([120, 1]), output size=torch.Size([120, 1])\n",
            "Batch n.  4: input size=torch.Size([120, 1]), output size=torch.Size([120, 1])\n",
            "Batch n.  5: input size=torch.Size([120, 1]), output size=torch.Size([120, 1])\n",
            "Batch n.  6: input size=torch.Size([120, 1]), output size=torch.Size([120, 1])\n",
            "Batch n.  7: input size=torch.Size([120, 1]), output size=torch.Size([120, 1])\n",
            "Batch n.  8: input size=torch.Size([120, 1]), output size=torch.Size([120, 1])\n",
            "Batch n.  9: input size=torch.Size([40, 1]), output size=torch.Size([40, 1])\n"
          ]
        }
      ],
      "source": [
        "for idx, batch in enumerate(train_loader):\n",
        "    print('Batch n. %2d: input size=%s, output size=%s' % (idx+1, batch[0].shape, batch[1].shape))"
      ]
    },
    {
      "cell_type": "code",
      "execution_count": 12,
      "metadata": {
        "id": "7H1rfPw3cwMt",
        "outputId": "232841d6-00dc-407f-d401-6cfed0d50520"
      },
      "outputs": [
        {
          "data": {
            "text/plain": [
              "960"
            ]
          },
          "execution_count": 12,
          "metadata": {},
          "output_type": "execute_result"
        }
      ],
      "source": [
        "8 * 120"
      ]
    },
    {
      "cell_type": "markdown",
      "metadata": {
        "id": "HAH13WNFcwMt"
      },
      "source": [
        "The role of `shuffle`:"
      ]
    },
    {
      "cell_type": "code",
      "execution_count": 13,
      "metadata": {
        "id": "kOW_Z3wYcwMt",
        "outputId": "83d6ccec-d718-41ba-9676-4987159806e6"
      },
      "outputs": [
        {
          "data": {
            "text/plain": [
              "array([[0.98155911, 0.22307062, 0.80150032],\n",
              "       [0.46370965, 0.98805952, 0.38527003],\n",
              "       [0.59837377, 0.33833164, 0.79427469],\n",
              "       [0.55279269, 0.27713159, 0.79882777],\n",
              "       [0.8032738 , 0.24344465, 0.72569495],\n",
              "       [0.66278737, 0.78178728, 0.71575004],\n",
              "       [0.86361493, 0.60883474, 0.54968083],\n",
              "       [0.10138408, 0.12054078, 0.8497237 ],\n",
              "       [0.0861408 , 0.36865544, 0.95479256],\n",
              "       [0.00468605, 0.80444062, 0.73617238],\n",
              "       [0.57873544, 0.54004419, 0.24430092],\n",
              "       [0.65380477, 0.78375679, 0.07010875],\n",
              "       [0.7238483 , 0.83168924, 0.7465952 ],\n",
              "       [0.90788384, 0.23934586, 0.36092985],\n",
              "       [0.95272509, 0.59603351, 0.09351251],\n",
              "       [0.78651678, 0.34912291, 0.12612306],\n",
              "       [0.35809468, 0.49917418, 0.70868641],\n",
              "       [0.74005181, 0.13118976, 0.10973077],\n",
              "       [0.9863168 , 0.47782606, 0.15015055],\n",
              "       [0.18930322, 0.20219061, 0.65380478],\n",
              "       [0.7891432 , 0.00468605, 0.8575086 ],\n",
              "       [0.03684868, 0.09191872, 0.49671486],\n",
              "       [0.84789576, 0.29410133, 0.46597329],\n",
              "       [0.91133581, 0.70619911, 0.8589797 ],\n",
              "       [0.7361724 , 0.54554713, 0.48795813],\n",
              "       [0.58053605, 0.35916692, 0.97084409],\n",
              "       [0.70868639, 0.73557621, 0.31399786],\n",
              "       [0.61795956, 0.59655797, 0.79757571],\n",
              "       [0.46987839, 0.15015055, 0.36865544],\n",
              "       [0.06567404, 0.95969623, 0.25072843],\n",
              "       [0.78384514, 0.7385124 , 0.67968518],\n",
              "       [0.69923906, 0.08969849, 0.45134485],\n",
              "       [0.46096192, 0.67999047, 0.29434264],\n",
              "       [0.67598612, 0.64072323, 0.12704846],\n",
              "       [0.07431382, 0.44523135, 0.32219118],\n",
              "       [0.09551938, 0.38057998, 0.88797086],\n",
              "       [0.74227385, 0.65380478, 0.89794362],\n",
              "       [0.85896986, 0.47442606, 0.11236574],\n",
              "       [0.94221088, 0.99039769, 0.36680704],\n",
              "       [0.96968892, 0.67968518, 0.09090192],\n",
              "       [0.55214048, 0.44596633, 0.07170517],\n",
              "       [0.29356274, 0.47972658, 0.43984517],\n",
              "       [0.10726291, 0.83170837, 0.79361659],\n",
              "       [0.98502848, 0.74791759, 0.9463135 ],\n",
              "       [0.63538719, 0.08572327, 0.42227173],\n",
              "       [0.37232433, 0.23694783, 0.70619911],\n",
              "       [0.28710684, 0.38968882, 0.82226819],\n",
              "       [0.97084407, 0.73338306, 0.39334592],\n",
              "       [0.41523196, 0.05340067, 0.61449891],\n",
              "       [0.1596695 , 0.71397346, 0.55216932],\n",
              "       [0.79361661, 0.3089498 , 0.58746517],\n",
              "       [0.67860542, 0.35324469, 0.9904201 ],\n",
              "       [0.12869962, 0.23687936, 0.94221085],\n",
              "       [0.29135539, 0.80058676, 0.93141013],\n",
              "       [0.81250044, 0.28307396, 0.13685076],\n",
              "       [0.49917419, 0.82931119, 0.90759903],\n",
              "       [0.78284406, 0.44929373, 0.01140865],\n",
              "       [0.37576075, 0.87580609, 0.59420037],\n",
              "       [0.02623594, 0.83651149, 0.59492046],\n",
              "       [0.34433692, 0.07010875, 0.54686952],\n",
              "       [0.9127577 , 0.66661775, 0.88946295],\n",
              "       [0.00590825, 0.09351251, 0.02073898],\n",
              "       [0.74017815, 0.43093616, 0.50500661],\n",
              "       [0.98266214, 0.26530266, 0.32747573],\n",
              "       [0.33531433, 0.8032738 , 0.8032738 ],\n",
              "       [0.36559755, 0.52622592, 0.47204763],\n",
              "       [0.23385552, 0.07513077, 0.07391898],\n",
              "       [0.95446346, 0.78384513, 0.62230259],\n",
              "       [0.93141012, 0.07410424, 0.23687936],\n",
              "       [0.88731161, 0.14890307, 0.28510135],\n",
              "       [0.14505362, 0.36987859, 0.75419891],\n",
              "       [0.2491008 , 0.70907402, 0.21673468],\n",
              "       [0.44596634, 0.01836796, 0.35337821],\n",
              "       [0.6043988 , 0.64587307, 0.60804194],\n",
              "       [0.95820367, 0.03100985, 0.67625785],\n",
              "       [0.85750859, 0.196133  , 0.26623005],\n",
              "       [0.96221444, 0.12481243, 0.95446348],\n",
              "       [0.14592828, 0.58908516, 0.52517462],\n",
              "       [0.09351251, 0.56371731, 0.98266214],\n",
              "       [0.71553309, 0.43080416, 0.95775872],\n",
              "       [0.46470219, 0.93446517, 0.3855111 ],\n",
              "       [0.79204571, 0.48795813, 0.20715664],\n",
              "       [0.38435974, 0.90468031, 0.87545389],\n",
              "       [0.03501092, 0.36559755, 0.08969849],\n",
              "       [0.43080416, 0.368873  , 0.9193691 ],\n",
              "       [0.42131545, 0.62737882, 0.32241866],\n",
              "       [0.56041034, 0.39392686, 0.38907564],\n",
              "       [0.15442746, 0.75363028, 0.60883474],\n",
              "       [0.03818093, 0.50455785, 0.05710096],\n",
              "       [0.83025151, 0.78329635, 0.31191009],\n",
              "       [0.64552098, 0.45559332, 0.75668758],\n",
              "       [0.93765187, 0.68996078, 0.42981181],\n",
              "       [0.47442606, 0.07565278, 0.55229354],\n",
              "       [0.88790443, 0.82394075, 0.47972658],\n",
              "       [0.78060577, 0.23214927, 0.64519048],\n",
              "       [0.01256017, 0.62720019, 0.8667596 ],\n",
              "       [0.03014586, 0.71553308, 0.36407897],\n",
              "       [0.52517464, 0.41397661, 0.59187263],\n",
              "       [0.8126473 , 0.54584581, 0.36715582],\n",
              "       [0.69522619, 0.40379205, 0.2599481 ],\n",
              "       [0.77333568, 0.4793753 , 0.01039901],\n",
              "       [0.12612306, 0.34121296, 0.007399  ],\n",
              "       [0.4121211 , 0.11273624, 0.70033818],\n",
              "       [0.39093465, 0.33522126, 0.39696661],\n",
              "       [0.95038887, 0.33339164, 0.25249916],\n",
              "       [0.23214927, 0.88797086, 0.7868818 ],\n",
              "       [0.80038457, 0.79002953, 0.798967  ],\n",
              "       [0.86905321, 0.8457526 , 0.99949801],\n",
              "       [0.13285982, 0.58145481, 0.91468531],\n",
              "       [0.78178728, 0.41509748, 0.10651253],\n",
              "       [0.9836874 , 0.9421798 , 0.16474025],\n",
              "       [0.73565759, 0.7955457 , 0.00223922],\n",
              "       [0.99039772, 0.98635167, 0.22223793],\n",
              "       [0.85598678, 0.65366584, 0.64610869],\n",
              "       [0.22606732, 0.94275337, 0.31597993],\n",
              "       [0.87109563, 0.23003079, 0.35916692],\n",
              "       [0.51619477, 0.20082985, 0.98892844],\n",
              "       [0.31399785, 0.34675077, 0.60511929],\n",
              "       [0.39360863, 0.690763  , 0.23397496],\n",
              "       [0.71575004, 0.53909975, 0.38778144]])"
            ]
          },
          "execution_count": 13,
          "metadata": {},
          "output_type": "execute_result"
        }
      ],
      "source": [
        "first_batch = []\n",
        "\n",
        "for epoch in range(2):\n",
        "    for idx, batch in enumerate(train_loader):\n",
        "        if idx == 0:\n",
        "            first_batch.append(batch)\n",
        "        \n",
        "np.c_[X_train[:batch_size], first_batch[0][0].numpy(), first_batch[1][0].numpy()]"
      ]
    },
    {
      "cell_type": "markdown",
      "metadata": {
        "id": "w3_NhwlrcwMu"
      },
      "source": [
        "## Models"
      ]
    },
    {
      "cell_type": "markdown",
      "metadata": {
        "id": "A0f9uHwucwMu"
      },
      "source": [
        "We implement a linear model $$x \\mapsto model(x):=A x + b$$ \n",
        "\n",
        "with $A\\in \\mathbb{R}^{input\\_dim\\times output\\_dim}$, $b\\in\\mathbb{R}^{output\\_dim}$."
      ]
    },
    {
      "cell_type": "code",
      "execution_count": 14,
      "metadata": {
        "id": "zkZiSD0acwMu"
      },
      "outputs": [],
      "source": [
        "import torch.nn as nn\n",
        "import torch\n",
        "\n",
        "#%% Linear layer\n",
        "class LinearModel(nn.Module):\n",
        "    def __init__(self, input_dim, output_dim):\n",
        "        super(LinearModel, self).__init__()\n",
        "\n",
        "        self.input_dim = input_dim\n",
        "        self.output_dim = output_dim\n",
        "\n",
        "        self.linear = nn.Linear(self.input_dim, self.output_dim, bias=True)\n",
        "\n",
        "    def forward(self, x):\n",
        "        out = self.linear(x)\n",
        "        return out\n",
        "    \n",
        "    def reset(self):\n",
        "        self.linear.reset_parameters()"
      ]
    },
    {
      "cell_type": "code",
      "execution_count": 15,
      "metadata": {
        "id": "OxAcziMecwMu"
      },
      "outputs": [],
      "source": [
        "model = LinearModel(input_dim, output_dim)"
      ]
    },
    {
      "cell_type": "markdown",
      "metadata": {
        "id": "wSv5w9_BcwMu"
      },
      "source": [
        "### Model inspection"
      ]
    },
    {
      "cell_type": "code",
      "execution_count": 16,
      "metadata": {
        "id": "lnN0mN8_cwMu",
        "outputId": "9d342c96-c787-444f-b4ca-cef3504a6608"
      },
      "outputs": [
        {
          "name": "stdout",
          "output_type": "stream",
          "text": [
            "LinearModel(\n",
            "  (linear): Linear(in_features=1, out_features=1, bias=True)\n",
            ")\n"
          ]
        }
      ],
      "source": [
        "print(model)"
      ]
    },
    {
      "cell_type": "markdown",
      "metadata": {
        "id": "13NtuQFYcwMv"
      },
      "source": [
        "See [pytorch.org/docs/stable/nn.html](https://pytorch.org/docs/stable/nn.html) for many other layers."
      ]
    },
    {
      "cell_type": "code",
      "execution_count": 17,
      "metadata": {
        "id": "78QTGF9hcwMv",
        "outputId": "37a535c4-2a25-46a6-968d-f8403d01eb55"
      },
      "outputs": [
        {
          "data": {
            "text/plain": [
              "[Parameter containing:\n",
              " tensor([[-0.0036]], requires_grad=True),\n",
              " Parameter containing:\n",
              " tensor([-0.7832], requires_grad=True)]"
            ]
          },
          "execution_count": 17,
          "metadata": {},
          "output_type": "execute_result"
        }
      ],
      "source": [
        "list(model.parameters())"
      ]
    },
    {
      "cell_type": "code",
      "execution_count": 18,
      "metadata": {
        "id": "e__nMFMYcwMv",
        "outputId": "b4a7b737-74c6-457b-d243-7b56fac4b953"
      },
      "outputs": [
        {
          "data": {
            "text/plain": [
              "Parameter containing:\n",
              "tensor([[-0.0036]], requires_grad=True)"
            ]
          },
          "execution_count": 18,
          "metadata": {},
          "output_type": "execute_result"
        }
      ],
      "source": [
        "model.linear.weight"
      ]
    },
    {
      "cell_type": "code",
      "execution_count": 19,
      "metadata": {
        "id": "CrIAB6LbcwMv",
        "outputId": "7245b4ba-4a5d-4c70-e587-baa3c4fdcd14"
      },
      "outputs": [
        {
          "data": {
            "text/plain": [
              "Parameter containing:\n",
              "tensor([-0.7832], requires_grad=True)"
            ]
          },
          "execution_count": 19,
          "metadata": {},
          "output_type": "execute_result"
        }
      ],
      "source": [
        "model.linear.bias"
      ]
    },
    {
      "cell_type": "markdown",
      "metadata": {
        "id": "0F8ADSlDcwMv"
      },
      "source": [
        "### The `forward` method"
      ]
    },
    {
      "cell_type": "code",
      "execution_count": 20,
      "metadata": {
        "id": "zuuKlwSKcwMv",
        "outputId": "ab323b65-cfb0-4e3e-c67c-164828e3eae8"
      },
      "outputs": [
        {
          "data": {
            "text/plain": [
              "tensor([[-0.7771],\n",
              "        [-0.7824],\n",
              "        [-0.7843],\n",
              "        [-0.7867],\n",
              "        [-0.7848]], grad_fn=<AddmmBackward0>)"
            ]
          },
          "execution_count": 20,
          "metadata": {},
          "output_type": "execute_result"
        }
      ],
      "source": [
        "x = torch.randn(5, input_dim)\n",
        "model.forward(x)"
      ]
    },
    {
      "cell_type": "code",
      "execution_count": 21,
      "metadata": {
        "id": "q1eIvn-0cwMv",
        "outputId": "228ec934-6a40-446f-ce3b-6368d4f3293c"
      },
      "outputs": [
        {
          "data": {
            "text/plain": [
              "[tensor([-0.7771], grad_fn=<AddBackward0>),\n",
              " tensor([-0.7824], grad_fn=<AddBackward0>),\n",
              " tensor([-0.7843], grad_fn=<AddBackward0>),\n",
              " tensor([-0.7867], grad_fn=<AddBackward0>),\n",
              " tensor([-0.7848], grad_fn=<AddBackward0>)]"
            ]
          },
          "execution_count": 21,
          "metadata": {},
          "output_type": "execute_result"
        }
      ],
      "source": [
        "[model.linear.weight @ xx + model.linear.bias for xx in x]"
      ]
    },
    {
      "cell_type": "code",
      "execution_count": 22,
      "metadata": {
        "id": "eLcdHiJQcwMv",
        "outputId": "11aeae39-50a5-439d-91ed-073dbe4f6bac"
      },
      "outputs": [
        {
          "data": {
            "image/png": "[encoded data removed]",
            "text/plain": [
              "<Figure size 432x288 with 1 Axes>"
            ]
          },
          "metadata": {
            "needs_background": "light"
          },
          "output_type": "display_data"
        }
      ],
      "source": [
        "if input_dim == output_dim == 1:\n",
        "    fig = plt.figure()\n",
        "    fig.clf()\n",
        "    ax = fig.gca()\n",
        "    ax.plot(training_set.input_data, training_set.output_data, '.')\n",
        "    ax.plot(training_set.input_data, model.forward(training_set.input_data).detach().numpy(), '.')\n",
        "    ax.grid(True)\n",
        "    ax.set_xlabel('X_train')\n",
        "    ax.legend(['y_train', 'model(X_train)'])    "
      ]
    },
    {
      "cell_type": "markdown",
      "metadata": {
        "id": "5lF5DoujcwMv"
      },
      "source": [
        "## Losses"
      ]
    },
    {
      "cell_type": "markdown",
      "metadata": {
        "id": "5OBrO8O_cwMv"
      },
      "source": [
        "### The MSE loss"
      ]
    },
    {
      "cell_type": "markdown",
      "metadata": {
        "id": "4C3Lg0i2cwMv"
      },
      "source": [
        "The MSE loss is\n",
        "$$\n",
        "L(y, y') = \\|y-y'\\|_2^2\n",
        "$$"
      ]
    },
    {
      "cell_type": "code",
      "execution_count": 23,
      "metadata": {
        "id": "HcIKuSrecwMv"
      },
      "outputs": [],
      "source": [
        "import torch.nn as nn\n",
        "loss_fun = nn.MSELoss(reduction='mean')"
      ]
    },
    {
      "cell_type": "markdown",
      "metadata": {
        "id": "cnvqpROMcwMw"
      },
      "source": [
        "More at [pytorch.org/docs/stable/nn.html#loss-functions](https://pytorch.org/docs/stable/nn.html#loss-functions)"
      ]
    },
    {
      "cell_type": "code",
      "execution_count": 24,
      "metadata": {
        "id": "d9kJe1FycwMw",
        "outputId": "4f51f97a-a159-439f-af57-a8e680484f01"
      },
      "outputs": [
        {
          "data": {
            "text/plain": [
              "tensor(2.)"
            ]
          },
          "execution_count": 24,
          "metadata": {},
          "output_type": "execute_result"
        }
      ],
      "source": [
        "x = torch.tensor(np.array([1, 2, 1]).astype('f'))\n",
        "z = torch.tensor(np.array([0, 0, 0]).astype('f'))\n",
        "loss_fun(x, z)"
      ]
    },
    {
      "cell_type": "markdown",
      "metadata": {
        "id": "n_OIs_BdcwMw"
      },
      "source": [
        "### Giving a score to the model (parameters) given the training set"
      ]
    },
    {
      "cell_type": "markdown",
      "metadata": {
        "id": "KM3WNJPvcwMw"
      },
      "source": [
        "The loss for one data pair $(x_i, y_i)$ is \n",
        "$$\n",
        "L(model(x_i), y_i)\n",
        "$$\n",
        "\n",
        "The cumulative (average) loss on the training set is \n",
        "$$\n",
        "L(X_{train}, y_{train}):=\\frac{1}{n_{train}} \\sum_{i=1}^{n_{train}} L(model(x_i), y_i)\n",
        "$$"
      ]
    },
    {
      "cell_type": "code",
      "execution_count": 25,
      "metadata": {
        "id": "HM-BgPyvcwMw",
        "outputId": "c93b252c-352e-4765-990d-447b5f41ab26"
      },
      "outputs": [
        {
          "ename": "IndexError",
          "evalue": "list index out of range",
          "output_type": "error",
          "traceback": [
            "\u001b[0;31m---------------------------------------------------------------------------\u001b[0m",
            "\u001b[0;31mIndexError\u001b[0m                                Traceback (most recent call last)",
            "\u001b[0;32m/tmp/ipykernel_1692700/3716101907.py\u001b[0m in \u001b[0;36m<module>\u001b[0;34m\u001b[0m\n\u001b[1;32m     22\u001b[0m     \u001b[0max\u001b[0m\u001b[0;34m.\u001b[0m\u001b[0mset_ylabel\u001b[0m\u001b[0;34m(\u001b[0m\u001b[0;34m'bias'\u001b[0m\u001b[0;34m)\u001b[0m\u001b[0;34m\u001b[0m\u001b[0;34m\u001b[0m\u001b[0m\n\u001b[1;32m     23\u001b[0m     \u001b[0max\u001b[0m\u001b[0;34m.\u001b[0m\u001b[0mset_xlabel\u001b[0m\u001b[0;34m(\u001b[0m\u001b[0;34m'weight'\u001b[0m\u001b[0;34m)\u001b[0m\u001b[0;34m\u001b[0m\u001b[0;34m\u001b[0m\u001b[0m\n\u001b[0;32m---> 24\u001b[0;31m     \u001b[0max\u001b[0m\u001b[0;34m.\u001b[0m\u001b[0mlegend\u001b[0m\u001b[0;34m(\u001b[0m\u001b[0;34m[\u001b[0m\u001b[0;34m'(A, b)'\u001b[0m\u001b[0;34m]\u001b[0m\u001b[0;34m)\u001b[0m\u001b[0;34m\u001b[0m\u001b[0;34m\u001b[0m\u001b[0m\n\u001b[0m\u001b[1;32m     25\u001b[0m \u001b[0;34m\u001b[0m\u001b[0m\n\u001b[1;32m     26\u001b[0m     \u001b[0max\u001b[0m\u001b[0;34m.\u001b[0m\u001b[0mgrid\u001b[0m\u001b[0;34m(\u001b[0m\u001b[0;32mTrue\u001b[0m\u001b[0;34m)\u001b[0m\u001b[0;34m\u001b[0m\u001b[0;34m\u001b[0m\u001b[0m\n",
            "\u001b[0;32m~/anaconda3/envs/gnn/lib/python3.7/site-packages/matplotlib/axes/_axes.py\u001b[0m in \u001b[0;36mlegend\u001b[0;34m(self, *args, **kwargs)\u001b[0m\n\u001b[1;32m    303\u001b[0m         \u001b[0;32mif\u001b[0m \u001b[0mlen\u001b[0m\u001b[0;34m(\u001b[0m\u001b[0mextra_args\u001b[0m\u001b[0;34m)\u001b[0m\u001b[0;34m:\u001b[0m\u001b[0;34m\u001b[0m\u001b[0;34m\u001b[0m\u001b[0m\n\u001b[1;32m    304\u001b[0m             \u001b[0;32mraise\u001b[0m \u001b[0mTypeError\u001b[0m\u001b[0;34m(\u001b[0m\u001b[0;34m'legend only accepts two non-keyword arguments'\u001b[0m\u001b[0;34m)\u001b[0m\u001b[0;34m\u001b[0m\u001b[0;34m\u001b[0m\u001b[0m\n\u001b[0;32m--> 305\u001b[0;31m         \u001b[0mself\u001b[0m\u001b[0;34m.\u001b[0m\u001b[0mlegend_\u001b[0m \u001b[0;34m=\u001b[0m \u001b[0mmlegend\u001b[0m\u001b[0;34m.\u001b[0m\u001b[0mLegend\u001b[0m\u001b[0;34m(\u001b[0m\u001b[0mself\u001b[0m\u001b[0;34m,\u001b[0m \u001b[0mhandles\u001b[0m\u001b[0;34m,\u001b[0m \u001b[0mlabels\u001b[0m\u001b[0;34m,\u001b[0m \u001b[0;34m**\u001b[0m\u001b[0mkwargs\u001b[0m\u001b[0;34m)\u001b[0m\u001b[0;34m\u001b[0m\u001b[0;34m\u001b[0m\u001b[0m\n\u001b[0m\u001b[1;32m    306\u001b[0m         \u001b[0mself\u001b[0m\u001b[0;34m.\u001b[0m\u001b[0mlegend_\u001b[0m\u001b[0;34m.\u001b[0m\u001b[0m_remove_method\u001b[0m \u001b[0;34m=\u001b[0m \u001b[0mself\u001b[0m\u001b[0;34m.\u001b[0m\u001b[0m_remove_legend\u001b[0m\u001b[0;34m\u001b[0m\u001b[0;34m\u001b[0m\u001b[0m\n\u001b[1;32m    307\u001b[0m         \u001b[0;32mreturn\u001b[0m \u001b[0mself\u001b[0m\u001b[0;34m.\u001b[0m\u001b[0mlegend_\u001b[0m\u001b[0;34m\u001b[0m\u001b[0;34m\u001b[0m\u001b[0m\n",
            "\u001b[0;32m~/anaconda3/envs/gnn/lib/python3.7/site-packages/matplotlib/legend.py\u001b[0m in \u001b[0;36m__init__\u001b[0;34m(self, parent, handles, labels, loc, numpoints, markerscale, markerfirst, scatterpoints, scatteryoffsets, prop, fontsize, labelcolor, borderpad, labelspacing, handlelength, handleheight, handletextpad, borderaxespad, columnspacing, ncol, mode, fancybox, shadow, title, title_fontsize, framealpha, edgecolor, facecolor, bbox_to_anchor, bbox_transform, frameon, handler_map, title_fontproperties)\u001b[0m\n\u001b[1;32m    497\u001b[0m \u001b[0;34m\u001b[0m\u001b[0m\n\u001b[1;32m    498\u001b[0m         \u001b[0;31m# init with null renderer\u001b[0m\u001b[0;34m\u001b[0m\u001b[0;34m\u001b[0m\u001b[0;34m\u001b[0m\u001b[0m\n\u001b[0;32m--> 499\u001b[0;31m         \u001b[0mself\u001b[0m\u001b[0;34m.\u001b[0m\u001b[0m_init_legend_box\u001b[0m\u001b[0;34m(\u001b[0m\u001b[0mhandles\u001b[0m\u001b[0;34m,\u001b[0m \u001b[0mlabels\u001b[0m\u001b[0;34m,\u001b[0m \u001b[0mmarkerfirst\u001b[0m\u001b[0;34m)\u001b[0m\u001b[0;34m\u001b[0m\u001b[0;34m\u001b[0m\u001b[0m\n\u001b[0m\u001b[1;32m    500\u001b[0m \u001b[0;34m\u001b[0m\u001b[0m\n\u001b[1;32m    501\u001b[0m         \u001b[0mtmp\u001b[0m \u001b[0;34m=\u001b[0m \u001b[0mself\u001b[0m\u001b[0;34m.\u001b[0m\u001b[0m_loc_used_default\u001b[0m\u001b[0;34m\u001b[0m\u001b[0;34m\u001b[0m\u001b[0m\n",
            "\u001b[0;32m~/anaconda3/envs/gnn/lib/python3.7/site-packages/matplotlib/legend.py\u001b[0m in \u001b[0;36m_init_legend_box\u001b[0;34m(self, handles, labels, markerfirst)\u001b[0m\n\u001b[1;32m    779\u001b[0m                 \u001b[0;31m# original artist/handle.\u001b[0m\u001b[0;34m\u001b[0m\u001b[0;34m\u001b[0m\u001b[0;34m\u001b[0m\u001b[0m\n\u001b[1;32m    780\u001b[0m                 handle_list.append(handler.legend_artist(self, orig_handle,\n\u001b[0;32m--> 781\u001b[0;31m                                                          fontsize, handlebox))\n\u001b[0m\u001b[1;32m    782\u001b[0m                 \u001b[0mhandles_and_labels\u001b[0m\u001b[0;34m.\u001b[0m\u001b[0mappend\u001b[0m\u001b[0;34m(\u001b[0m\u001b[0;34m(\u001b[0m\u001b[0mhandlebox\u001b[0m\u001b[0;34m,\u001b[0m \u001b[0mtextbox\u001b[0m\u001b[0;34m)\u001b[0m\u001b[0;34m)\u001b[0m\u001b[0;34m\u001b[0m\u001b[0;34m\u001b[0m\u001b[0m\n\u001b[1;32m    783\u001b[0m \u001b[0;34m\u001b[0m\u001b[0m\n",
            "\u001b[0;32m~/anaconda3/envs/gnn/lib/python3.7/site-packages/matplotlib/legend_handler.py\u001b[0m in \u001b[0;36mlegend_artist\u001b[0;34m(self, legend, orig_handle, fontsize, handlebox)\u001b[0m\n\u001b[1;32m    119\u001b[0m         artists = self.create_artists(legend, orig_handle,\n\u001b[1;32m    120\u001b[0m                                       \u001b[0mxdescent\u001b[0m\u001b[0;34m,\u001b[0m \u001b[0mydescent\u001b[0m\u001b[0;34m,\u001b[0m \u001b[0mwidth\u001b[0m\u001b[0;34m,\u001b[0m \u001b[0mheight\u001b[0m\u001b[0;34m,\u001b[0m\u001b[0;34m\u001b[0m\u001b[0;34m\u001b[0m\u001b[0m\n\u001b[0;32m--> 121\u001b[0;31m                                       fontsize, handlebox.get_transform())\n\u001b[0m\u001b[1;32m    122\u001b[0m \u001b[0;34m\u001b[0m\u001b[0m\n\u001b[1;32m    123\u001b[0m         \u001b[0;32mif\u001b[0m \u001b[0misinstance\u001b[0m\u001b[0;34m(\u001b[0m\u001b[0martists\u001b[0m\u001b[0;34m,\u001b[0m \u001b[0m_Line2DHandleList\u001b[0m\u001b[0;34m)\u001b[0m\u001b[0;34m:\u001b[0m\u001b[0;34m\u001b[0m\u001b[0;34m\u001b[0m\u001b[0m\n",
            "\u001b[0;32m~/anaconda3/envs/gnn/lib/python3.7/site-packages/matplotlib/legend_handler.py\u001b[0m in \u001b[0;36mcreate_artists\u001b[0;34m(self, legend, orig_handle, xdescent, ydescent, width, height, fontsize, trans)\u001b[0m\n\u001b[1;32m    515\u001b[0m         p = self.create_collection(orig_handle, sizes,\n\u001b[1;32m    516\u001b[0m                                    \u001b[0moffsets\u001b[0m\u001b[0;34m=\u001b[0m\u001b[0mlist\u001b[0m\u001b[0;34m(\u001b[0m\u001b[0mzip\u001b[0m\u001b[0;34m(\u001b[0m\u001b[0mxdata_marker\u001b[0m\u001b[0;34m,\u001b[0m \u001b[0mydata\u001b[0m\u001b[0;34m)\u001b[0m\u001b[0;34m)\u001b[0m\u001b[0;34m,\u001b[0m\u001b[0;34m\u001b[0m\u001b[0;34m\u001b[0m\u001b[0m\n\u001b[0;32m--> 517\u001b[0;31m                                    transOffset=trans)\n\u001b[0m\u001b[1;32m    518\u001b[0m \u001b[0;34m\u001b[0m\u001b[0m\n\u001b[1;32m    519\u001b[0m         \u001b[0mself\u001b[0m\u001b[0;34m.\u001b[0m\u001b[0mupdate_prop\u001b[0m\u001b[0;34m(\u001b[0m\u001b[0mp\u001b[0m\u001b[0;34m,\u001b[0m \u001b[0morig_handle\u001b[0m\u001b[0;34m,\u001b[0m \u001b[0mlegend\u001b[0m\u001b[0;34m)\u001b[0m\u001b[0;34m\u001b[0m\u001b[0;34m\u001b[0m\u001b[0m\n",
            "\u001b[0;32m~/anaconda3/envs/gnn/lib/python3.7/site-packages/matplotlib/legend_handler.py\u001b[0m in \u001b[0;36mcreate_collection\u001b[0;34m(self, orig_handle, sizes, offsets, transOffset)\u001b[0m\n\u001b[1;32m    525\u001b[0m     \u001b[0;34mr\"\"\"Handler for `.PathCollection`\\s, which are used by `~.Axes.scatter`.\"\"\"\u001b[0m\u001b[0;34m\u001b[0m\u001b[0;34m\u001b[0m\u001b[0m\n\u001b[1;32m    526\u001b[0m     \u001b[0;32mdef\u001b[0m \u001b[0mcreate_collection\u001b[0m\u001b[0;34m(\u001b[0m\u001b[0mself\u001b[0m\u001b[0;34m,\u001b[0m \u001b[0morig_handle\u001b[0m\u001b[0;34m,\u001b[0m \u001b[0msizes\u001b[0m\u001b[0;34m,\u001b[0m \u001b[0moffsets\u001b[0m\u001b[0;34m,\u001b[0m \u001b[0mtransOffset\u001b[0m\u001b[0;34m)\u001b[0m\u001b[0;34m:\u001b[0m\u001b[0;34m\u001b[0m\u001b[0;34m\u001b[0m\u001b[0m\n\u001b[0;32m--> 527\u001b[0;31m         p = type(orig_handle)([orig_handle.get_paths()[0]],\n\u001b[0m\u001b[1;32m    528\u001b[0m                               \u001b[0msizes\u001b[0m\u001b[0;34m=\u001b[0m\u001b[0msizes\u001b[0m\u001b[0;34m,\u001b[0m\u001b[0;34m\u001b[0m\u001b[0;34m\u001b[0m\u001b[0m\n\u001b[1;32m    529\u001b[0m                               \u001b[0moffsets\u001b[0m\u001b[0;34m=\u001b[0m\u001b[0moffsets\u001b[0m\u001b[0;34m,\u001b[0m\u001b[0;34m\u001b[0m\u001b[0;34m\u001b[0m\u001b[0m\n",
            "\u001b[0;31mIndexError\u001b[0m: list index out of range"
          ]
        },
        {
          "data": {
            "image/png": "[encoded data removed]",
            "text/plain": [
              "<Figure size 720x576 with 2 Axes>"
            ]
          },
          "metadata": {
            "needs_background": "light"
          },
          "output_type": "display_data"
        }
      ],
      "source": [
        "if input_dim == output_dim == 1:\n",
        "\n",
        "    state_dict = model.state_dict()\n",
        "\n",
        "    ww, bb = np.meshgrid(np.linspace(-2, 2, 30), np.linspace(-2, 2, 30))\n",
        "\n",
        "    loss_values = 0 * ww\n",
        "    for i in range(ww.shape[0]):\n",
        "        for j in range(ww.shape[1]):\n",
        "            state_dict['linear.weight'] = torch.tensor([[ww[i, j]]])\n",
        "            state_dict['linear.bias'] = torch.tensor([bb[i, j]])\n",
        "            model.load_state_dict(state_dict)\n",
        "            loss_values[i, j] = loss_fun(model.forward(training_set.input_data),  training_set.output_data)\n",
        "\n",
        "    fig = plt.figure(figsize=(10, 8))\n",
        "    fig.clf()\n",
        "    ax = fig.gca()\n",
        "    levels = np.logspace(np.log(np.min(loss_values)), np.log(np.max(loss_values)), 20)\n",
        "    c=ax.contourf(ww, bb, loss_values, levels=levels, norm=colors.LogNorm())\n",
        "    plt.colorbar(c)\n",
        "    ax.plot(A[0], b, 'r*', markersize=10)\n",
        "    ax.set_ylabel('bias')\n",
        "    ax.set_xlabel('weight')\n",
        "    ax.legend(['(A, b)'])\n",
        "    \n",
        "    ax.grid(True)    "
      ]
    },
    {
      "cell_type": "markdown",
      "metadata": {
        "id": "__5Kfq-ccwMw"
      },
      "source": [
        "## Optimization"
      ]
    },
    {
      "cell_type": "markdown",
      "metadata": {
        "id": "wUuOkV6JcwMw"
      },
      "source": [
        "Goal: minimize the loss given the data:\n",
        "$$\n",
        "\\min\\limits_{par \\in model} L(X_{train}, y_{train})\n",
        "=\\min\\limits_{par \\in model} \\frac{1}{n_{train}} \\sum_{i=1}^{n_{train}} L(x_i, model(x_i))\n",
        "$$\n",
        "\n",
        "In this case $par =\\{A, b\\}$."
      ]
    },
    {
      "cell_type": "markdown",
      "metadata": {
        "id": "7koN4qBHcwMw"
      },
      "source": [
        "Iterative gradient based optimization:\n",
        "\\begin{align*}\n",
        "par^{(0)} &= par_0\\\\\n",
        "par^{(k+1)} &=  par^{(k)} - \\eta^{(k)} \\nabla_{par} L(X_{train}, y_{train})\n",
        "\\end{align*}    \n",
        "with learning rate $\\eta^{(k)}$."
      ]
    },
    {
      "cell_type": "markdown",
      "metadata": {
        "id": "tiCaRxCjcwMw"
      },
      "source": [
        "### Gradients"
      ]
    },
    {
      "cell_type": "markdown",
      "metadata": {
        "id": "flr1pSfdcwMw"
      },
      "source": [
        "The model is \n",
        "$$\n",
        "model(x) = A x + b\n",
        "$$\n",
        "\n",
        "With $input\\_dim = output\\_dim = 1$ we have $A:=a\\in\\mathbb{R},\\ b\\in\\mathbb{R}$. \n",
        "\n",
        "For a data pair $(x, y)$ the loss is\n",
        "\\begin{align*}\n",
        "L(x, y) \n",
        "&= \\|model(x)-y\\|_2^2\\\\ \n",
        "&= (model(x)-y)^2\\\\\n",
        "&= (a x + b - y)^2\\\\\n",
        "&= a^2 x^2 + 2 a b x - 2 a xy + b^2 -2 b y + y^2.\n",
        "\\end{align*}\n",
        "\n",
        "We can compute\n",
        "\\begin{align*}\n",
        "\\nabla_a L(x, y) \n",
        "&= 2 a x^2 + 2 b x - 2 xy\n",
        "=2 x (a x + b - y)\\\\\n",
        "\\nabla_b L(x, y)\n",
        "&= 2 a x + 2 b - 2 y\n",
        "= 2 (ax + b - y).\n",
        "\\end{align*}\n"
      ]
    },
    {
      "cell_type": "code",
      "execution_count": null,
      "metadata": {
        "id": "onkncj9HcwMw"
      },
      "outputs": [],
      "source": [
        "x = torch.randn(1, input_dim)\n",
        "y =  torch.randn(1, output_dim)\n",
        "\n",
        "model.zero_grad()\n",
        "loss = loss_fun(model.forward(x),  y)\n",
        "loss.backward()"
      ]
    },
    {
      "cell_type": "code",
      "execution_count": null,
      "metadata": {
        "id": "iVbwFlDKcwMw",
        "outputId": "b1606934-9672-4e86-9754-06fab16d9fdd"
      },
      "outputs": [
        {
          "name": "stdout",
          "output_type": "stream",
          "text": [
            "tensor([[3.2567]])\n",
            "tensor([[3.2567]], grad_fn=<MulBackward0>)\n",
            "tensor([7.3100])\n",
            "tensor([[7.3100]], grad_fn=<MulBackward0>)\n"
          ]
        }
      ],
      "source": [
        "if input_dim == output_dim == 1:\n",
        "    print(model.linear.weight.grad)\n",
        "    print(2 * x * (model.linear.weight * x + model.linear.bias - y))\n",
        "    \n",
        "    print(model.linear.bias.grad)\n",
        "    print(2 * (model.linear.weight * x + model.linear.bias - y))"
      ]
    },
    {
      "cell_type": "markdown",
      "metadata": {
        "id": "UP7yIM7EcwMw"
      },
      "source": [
        "### Handmade optimization"
      ]
    },
    {
      "cell_type": "code",
      "execution_count": null,
      "metadata": {
        "id": "62mbYt66cwMw"
      },
      "outputs": [],
      "source": [
        "if input_dim == output_dim == 1:\n",
        "\n",
        "    num_iter = 200\n",
        "    lr = 0.5 # 0.01\n",
        "\n",
        "    train_hist = {}\n",
        "    train_hist['weight'] = []\n",
        "    train_hist['bias'] = []\n",
        "\n",
        "    model.reset()\n",
        "    state_dict = model.state_dict()\n",
        "\n",
        "    for _ in range(num_iter):\n",
        "\n",
        "        model.zero_grad()\n",
        "        loss = loss_fun(model.forward(training_set.input_data), training_set.output_data)\n",
        "        loss.backward()\n",
        "\n",
        "        w = model.linear.weight.item()\n",
        "        b = model.linear.bias.item()\n",
        "\n",
        "        dw = model.linear.weight.grad.item()\n",
        "        db = model.linear.bias.grad.item()\n",
        "\n",
        "        state_dict['linear.weight'] += torch.tensor([-lr * dw])\n",
        "        state_dict['linear.bias'] += torch.tensor([-lr * db])\n",
        "        model.load_state_dict(state_dict)\n",
        "\n",
        "        train_hist['weight'].append(w)\n",
        "        train_hist['bias'].append(b)\n",
        "\n",
        "    for label in train_hist:\n",
        "        train_hist[label] = np.array(train_hist[label])"
      ]
    },
    {
      "cell_type": "code",
      "execution_count": null,
      "metadata": {
        "id": "kAvrg0f0cwMw",
        "outputId": "858b623e-f8ba-4f9a-8cf3-9ac35584b8e3"
      },
      "outputs": [
        {
          "data": {
            "image/png": "[encoded data removed]",
            "text/plain": [
              "<Figure size 576x576 with 1 Axes>"
            ]
          },
          "metadata": {
            "needs_background": "light"
          },
          "output_type": "display_data"
        }
      ],
      "source": [
        "if input_dim == output_dim == 1:\n",
        "    fig = plt.figure(figsize=(8, 8))\n",
        "    fig.clf()\n",
        "    ax = fig.gca()\n",
        "    levels = np.logspace(np.log(np.min(loss_values)), np.log(np.max(loss_values)), 20)\n",
        "    ax.contourf(ww, bb, loss_values, levels=levels, norm=colors.LogNorm())\n",
        "    ax.set_xlabel('weight')\n",
        "    ax.set_ylabel('bias')\n",
        "    ax.grid(True)\n",
        "    ax.set_xlim(-2, 2) \n",
        "    ax.set_ylim(-2, 2) \n",
        "    \n",
        "    ax.plot(train_hist['weight'], train_hist['bias'], '.-b')\n",
        "    ax.plot(A[0], b, 'r*', markersize=10)\n",
        "\n",
        "    #ax.legend(['optim', '(A, b)'])"
      ]
    },
    {
      "cell_type": "markdown",
      "metadata": {
        "id": "j5V-VPpjcwMw"
      },
      "source": [
        "### Stochastic GD"
      ]
    },
    {
      "cell_type": "markdown",
      "metadata": {
        "id": "IQ2X-uWUcwMx"
      },
      "source": [
        "* Avoid loading the full training set\n",
        "* Avoid evaluating the model on the full training set"
      ]
    },
    {
      "cell_type": "markdown",
      "metadata": {
        "id": "_b_x92DtcwMx"
      },
      "source": [
        "At every step, compute the loss on a batch of data $(X^{(k)}, y^{(k)})\\sim (X_{train}, y_{train})$: \n",
        "\n",
        "\\begin{align*}\n",
        "L(X^{(k)}, y^{(k)}) := \\sum_{(x, y) \\in (X^{(k)}, y^{(k)})} L(x, model(x)).\n",
        "\\end{align*}    \n",
        "\n",
        "and then update with this approximated gradient:\n",
        "\\begin{align*}\n",
        "par^{(k+1)} &=  par^{(k)} - \\eta^{(k)} \\nabla_{par} L(X^{(k)}, y^{(k)}). \n",
        "\\end{align*}    "
      ]
    },
    {
      "cell_type": "markdown",
      "metadata": {
        "id": "8GXDeGH5cwMx"
      },
      "source": [
        "### PyTorch `optim`"
      ]
    },
    {
      "cell_type": "code",
      "execution_count": null,
      "metadata": {
        "id": "Du0-vBIfcwMx"
      },
      "outputs": [],
      "source": [
        "lr = 0.1\n",
        "weight_decay = 5e-4\n",
        "optimizer = torch.optim.Adam(model.parameters(), lr=lr, weight_decay=weight_decay)"
      ]
    },
    {
      "cell_type": "markdown",
      "metadata": {
        "id": "ZxWlNvEEcwMx"
      },
      "source": [
        "More at [pytorch.org/docs/stable/optim.html](https://pytorch.org/docs/stable/optim.html)."
      ]
    },
    {
      "cell_type": "code",
      "execution_count": null,
      "metadata": {
        "id": "YtjiLXilcwMx"
      },
      "outputs": [],
      "source": [
        "n_epochs = 100"
      ]
    },
    {
      "cell_type": "code",
      "execution_count": null,
      "metadata": {
        "id": "XNaL8t0QcwMx",
        "outputId": "68ed0b15-30bf-4e0f-d41a-231b48d8c970"
      },
      "outputs": [
        {
          "name": "stdout",
          "output_type": "stream",
          "text": [
            "[Epoch    1/ 100] [Batch    1/   9] Loss:  2.39e+00\n",
            "[Epoch    1/ 100] [Batch    2/   9] Loss:  1.86e+00\n",
            "[Epoch    1/ 100] [Batch    3/   9] Loss:  1.57e+00\n",
            "[Epoch    1/ 100] [Batch    4/   9] Loss:  1.14e+00\n",
            "[Epoch    1/ 100] [Batch    5/   9] Loss:  8.70e-01\n",
            "[Epoch    1/ 100] [Batch    6/   9] Loss:  6.05e-01\n",
            "[Epoch    1/ 100] [Batch    7/   9] Loss:  4.03e-01\n",
            "[Epoch    1/ 100] [Batch    8/   9] Loss:  2.51e-01\n",
            "[Epoch    1/ 100] [Batch    9/   9] Loss:  1.35e-01\n",
            "[Epoch    2/ 100] [Batch    1/   9] Loss:  6.43e-02\n",
            "[Epoch    2/ 100] [Batch    2/   9] Loss:  2.48e-02\n",
            "[Epoch    2/ 100] [Batch    3/   9] Loss:  1.06e-02\n",
            "[Epoch    2/ 100] [Batch    4/   9] Loss:  2.35e-02\n",
            "[Epoch    2/ 100] [Batch    5/   9] Loss:  4.01e-02\n",
            "[Epoch    2/ 100] [Batch    6/   9] Loss:  6.55e-02\n",
            "[Epoch    2/ 100] [Batch    7/   9] Loss:  1.14e-01\n",
            "[Epoch    2/ 100] [Batch    8/   9] Loss:  1.69e-01\n",
            "[Epoch    2/ 100] [Batch    9/   9] Loss:  1.72e-01\n",
            "[Epoch    3/ 100] [Batch    1/   9] Loss:  1.80e-01\n",
            "[Epoch    3/ 100] [Batch    2/   9] Loss:  1.87e-01\n",
            "[Epoch    3/ 100] [Batch    3/   9] Loss:  1.64e-01\n",
            "[Epoch    3/ 100] [Batch    4/   9] Loss:  1.58e-01\n",
            "[Epoch    3/ 100] [Batch    5/   9] Loss:  1.50e-01\n",
            "[Epoch    3/ 100] [Batch    6/   9] Loss:  1.26e-01\n",
            "[Epoch    3/ 100] [Batch    7/   9] Loss:  1.18e-01\n",
            "[Epoch    3/ 100] [Batch    8/   9] Loss:  8.33e-02\n",
            "[Epoch    3/ 100] [Batch    9/   9] Loss:  4.59e-02\n",
            "[Epoch    4/ 100] [Batch    1/   9] Loss:  3.73e-02\n",
            "[Epoch    4/ 100] [Batch    2/   9] Loss:  2.62e-02\n",
            "[Epoch    4/ 100] [Batch    3/   9] Loss:  1.59e-02\n",
            "[Epoch    4/ 100] [Batch    4/   9] Loss:  9.40e-03\n",
            "[Epoch    4/ 100] [Batch    5/   9] Loss:  6.52e-03\n",
            "[Epoch    4/ 100] [Batch    6/   9] Loss:  6.98e-03\n",
            "[Epoch    4/ 100] [Batch    7/   9] Loss:  1.11e-02\n",
            "[Epoch    4/ 100] [Batch    8/   9] Loss:  1.69e-02\n",
            "[Epoch    4/ 100] [Batch    9/   9] Loss:  2.47e-02\n",
            "[Epoch    5/ 100] [Batch    1/   9] Loss:  2.65e-02\n",
            "[Epoch    5/ 100] [Batch    2/   9] Loss:  2.71e-02\n",
            "[Epoch    5/ 100] [Batch    3/   9] Loss:  3.22e-02\n",
            "[Epoch    5/ 100] [Batch    4/   9] Loss:  3.03e-02\n",
            "[Epoch    5/ 100] [Batch    5/   9] Loss:  2.63e-02\n",
            "[Epoch    5/ 100] [Batch    6/   9] Loss:  2.26e-02\n",
            "[Epoch    5/ 100] [Batch    7/   9] Loss:  2.28e-02\n",
            "[Epoch    5/ 100] [Batch    8/   9] Loss:  1.83e-02\n",
            "[Epoch    5/ 100] [Batch    9/   9] Loss:  9.92e-03\n",
            "[Epoch    6/ 100] [Batch    1/   9] Loss:  1.10e-02\n",
            "[Epoch    6/ 100] [Batch    2/   9] Loss:  8.98e-03\n",
            "[Epoch    6/ 100] [Batch    3/   9] Loss:  6.16e-03\n",
            "[Epoch    6/ 100] [Batch    4/   9] Loss:  3.55e-03\n",
            "[Epoch    6/ 100] [Batch    5/   9] Loss:  4.18e-03\n",
            "[Epoch    6/ 100] [Batch    6/   9] Loss:  3.67e-03\n",
            "[Epoch    6/ 100] [Batch    7/   9] Loss:  5.02e-03\n",
            "[Epoch    6/ 100] [Batch    8/   9] Loss:  5.63e-03\n",
            "[Epoch    6/ 100] [Batch    9/   9] Loss:  7.92e-03\n",
            "[Epoch    7/ 100] [Batch    1/   9] Loss:  5.56e-03\n",
            "[Epoch    7/ 100] [Batch    2/   9] Loss:  7.07e-03\n",
            "[Epoch    7/ 100] [Batch    3/   9] Loss:  7.07e-03\n",
            "[Epoch    7/ 100] [Batch    4/   9] Loss:  7.28e-03\n",
            "[Epoch    7/ 100] [Batch    5/   9] Loss:  6.75e-03\n",
            "[Epoch    7/ 100] [Batch    6/   9] Loss:  5.65e-03\n",
            "[Epoch    7/ 100] [Batch    7/   9] Loss:  4.06e-03\n",
            "[Epoch    7/ 100] [Batch    8/   9] Loss:  3.97e-03\n",
            "[Epoch    7/ 100] [Batch    9/   9] Loss:  4.30e-03\n",
            "[Epoch    8/ 100] [Batch    1/   9] Loss:  2.66e-03\n",
            "[Epoch    8/ 100] [Batch    2/   9] Loss:  2.56e-03\n",
            "[Epoch    8/ 100] [Batch    3/   9] Loss:  2.44e-03\n",
            "[Epoch    8/ 100] [Batch    4/   9] Loss:  2.98e-03\n",
            "[Epoch    8/ 100] [Batch    5/   9] Loss:  2.64e-03\n",
            "[Epoch    8/ 100] [Batch    6/   9] Loss:  2.41e-03\n",
            "[Epoch    8/ 100] [Batch    7/   9] Loss:  2.83e-03\n",
            "[Epoch    8/ 100] [Batch    8/   9] Loss:  2.79e-03\n",
            "[Epoch    8/ 100] [Batch    9/   9] Loss:  3.04e-03\n",
            "[Epoch    9/ 100] [Batch    1/   9] Loss:  2.83e-03\n",
            "[Epoch    9/ 100] [Batch    2/   9] Loss:  2.98e-03\n",
            "[Epoch    9/ 100] [Batch    3/   9] Loss:  2.41e-03\n",
            "[Epoch    9/ 100] [Batch    4/   9] Loss:  2.59e-03\n",
            "[Epoch    9/ 100] [Batch    5/   9] Loss:  2.55e-03\n",
            "[Epoch    9/ 100] [Batch    6/   9] Loss:  2.23e-03\n",
            "[Epoch    9/ 100] [Batch    7/   9] Loss:  2.29e-03\n",
            "[Epoch    9/ 100] [Batch    8/   9] Loss:  2.16e-03\n",
            "[Epoch    9/ 100] [Batch    9/   9] Loss:  1.66e-03\n",
            "[Epoch   10/ 100] [Batch    1/   9] Loss:  1.84e-03\n",
            "[Epoch   10/ 100] [Batch    2/   9] Loss:  2.29e-03\n",
            "[Epoch   10/ 100] [Batch    3/   9] Loss:  2.05e-03\n",
            "[Epoch   10/ 100] [Batch    4/   9] Loss:  1.72e-03\n",
            "[Epoch   10/ 100] [Batch    5/   9] Loss:  1.93e-03\n",
            "[Epoch   10/ 100] [Batch    6/   9] Loss:  2.31e-03\n",
            "[Epoch   10/ 100] [Batch    7/   9] Loss:  2.26e-03\n",
            "[Epoch   10/ 100] [Batch    8/   9] Loss:  1.47e-03\n",
            "[Epoch   10/ 100] [Batch    9/   9] Loss:  1.65e-03\n",
            "[Epoch   11/ 100] [Batch    1/   9] Loss:  1.90e-03\n",
            "[Epoch   11/ 100] [Batch    2/   9] Loss:  1.89e-03\n",
            "[Epoch   11/ 100] [Batch    3/   9] Loss:  1.73e-03\n",
            "[Epoch   11/ 100] [Batch    4/   9] Loss:  1.40e-03\n",
            "[Epoch   11/ 100] [Batch    5/   9] Loss:  1.63e-03\n",
            "[Epoch   11/ 100] [Batch    6/   9] Loss:  2.00e-03\n",
            "[Epoch   11/ 100] [Batch    7/   9] Loss:  1.75e-03\n",
            "[Epoch   11/ 100] [Batch    8/   9] Loss:  1.64e-03\n",
            "[Epoch   11/ 100] [Batch    9/   9] Loss:  1.98e-03\n",
            "[Epoch   12/ 100] [Batch    1/   9] Loss:  1.76e-03\n",
            "[Epoch   12/ 100] [Batch    2/   9] Loss:  2.07e-03\n",
            "[Epoch   12/ 100] [Batch    3/   9] Loss:  1.82e-03\n",
            "[Epoch   12/ 100] [Batch    4/   9] Loss:  1.73e-03\n",
            "[Epoch   12/ 100] [Batch    5/   9] Loss:  1.65e-03\n",
            "[Epoch   12/ 100] [Batch    6/   9] Loss:  1.68e-03\n",
            "[Epoch   12/ 100] [Batch    7/   9] Loss:  1.65e-03\n",
            "[Epoch   12/ 100] [Batch    8/   9] Loss:  1.67e-03\n",
            "[Epoch   12/ 100] [Batch    9/   9] Loss:  1.31e-03\n",
            "[Epoch   13/ 100] [Batch    1/   9] Loss:  1.67e-03\n",
            "[Epoch   13/ 100] [Batch    2/   9] Loss:  1.71e-03\n",
            "[Epoch   13/ 100] [Batch    3/   9] Loss:  1.43e-03\n",
            "[Epoch   13/ 100] [Batch    4/   9] Loss:  1.69e-03\n",
            "[Epoch   13/ 100] [Batch    5/   9] Loss:  1.67e-03\n",
            "[Epoch   13/ 100] [Batch    6/   9] Loss:  1.90e-03\n",
            "[Epoch   13/ 100] [Batch    7/   9] Loss:  1.64e-03\n",
            "[Epoch   13/ 100] [Batch    8/   9] Loss:  1.81e-03\n",
            "[Epoch   13/ 100] [Batch    9/   9] Loss:  1.66e-03\n",
            "[Epoch   14/ 100] [Batch    1/   9] Loss:  1.70e-03\n",
            "[Epoch   14/ 100] [Batch    2/   9] Loss:  1.46e-03\n",
            "[Epoch   14/ 100] [Batch    3/   9] Loss:  1.64e-03\n",
            "[Epoch   14/ 100] [Batch    4/   9] Loss:  1.65e-03\n",
            "[Epoch   14/ 100] [Batch    5/   9] Loss:  1.50e-03\n",
            "[Epoch   14/ 100] [Batch    6/   9] Loss:  1.79e-03\n",
            "[Epoch   14/ 100] [Batch    7/   9] Loss:  1.84e-03\n",
            "[Epoch   14/ 100] [Batch    8/   9] Loss:  1.82e-03\n",
            "[Epoch   14/ 100] [Batch    9/   9] Loss:  1.27e-03\n",
            "[Epoch   15/ 100] [Batch    1/   9] Loss:  1.32e-03\n",
            "[Epoch   15/ 100] [Batch    2/   9] Loss:  1.86e-03\n",
            "[Epoch   15/ 100] [Batch    3/   9] Loss:  2.11e-03\n",
            "[Epoch   15/ 100] [Batch    4/   9] Loss:  1.51e-03\n",
            "[Epoch   15/ 100] [Batch    5/   9] Loss:  1.48e-03\n",
            "[Epoch   15/ 100] [Batch    6/   9] Loss:  1.51e-03\n",
            "[Epoch   15/ 100] [Batch    7/   9] Loss:  1.95e-03\n",
            "[Epoch   15/ 100] [Batch    8/   9] Loss:  1.64e-03\n",
            "[Epoch   15/ 100] [Batch    9/   9] Loss:  1.83e-03\n",
            "[Epoch   16/ 100] [Batch    1/   9] Loss:  1.93e-03\n",
            "[Epoch   16/ 100] [Batch    2/   9] Loss:  1.86e-03\n",
            "[Epoch   16/ 100] [Batch    3/   9] Loss:  1.43e-03\n",
            "[Epoch   16/ 100] [Batch    4/   9] Loss:  1.37e-03\n",
            "[Epoch   16/ 100] [Batch    5/   9] Loss:  1.72e-03\n",
            "[Epoch   16/ 100] [Batch    6/   9] Loss:  1.49e-03\n",
            "[Epoch   16/ 100] [Batch    7/   9] Loss:  1.58e-03\n",
            "[Epoch   16/ 100] [Batch    8/   9] Loss:  1.77e-03\n",
            "[Epoch   16/ 100] [Batch    9/   9] Loss:  2.05e-03\n",
            "[Epoch   17/ 100] [Batch    1/   9] Loss:  1.70e-03\n",
            "[Epoch   17/ 100] [Batch    2/   9] Loss:  1.65e-03\n",
            "[Epoch   17/ 100] [Batch    3/   9] Loss:  1.54e-03\n",
            "[Epoch   17/ 100] [Batch    4/   9] Loss:  1.77e-03\n",
            "[Epoch   17/ 100] [Batch    5/   9] Loss:  1.51e-03\n",
            "[Epoch   17/ 100] [Batch    6/   9] Loss:  1.91e-03\n",
            "[Epoch   17/ 100] [Batch    7/   9] Loss:  1.80e-03\n",
            "[Epoch   17/ 100] [Batch    8/   9] Loss:  1.49e-03\n",
            "[Epoch   17/ 100] [Batch    9/   9] Loss:  1.44e-03\n",
            "[Epoch   18/ 100] [Batch    1/   9] Loss:  1.69e-03\n",
            "[Epoch   18/ 100] [Batch    2/   9] Loss:  1.57e-03\n",
            "[Epoch   18/ 100] [Batch    3/   9] Loss:  1.69e-03\n",
            "[Epoch   18/ 100] [Batch    4/   9] Loss:  1.78e-03\n",
            "[Epoch   18/ 100] [Batch    5/   9] Loss:  1.72e-03\n",
            "[Epoch   18/ 100] [Batch    6/   9] Loss:  1.66e-03\n",
            "[Epoch   18/ 100] [Batch    7/   9] Loss:  1.52e-03\n",
            "[Epoch   18/ 100] [Batch    8/   9] Loss:  1.51e-03\n",
            "[Epoch   18/ 100] [Batch    9/   9] Loss:  2.22e-03\n",
            "[Epoch   19/ 100] [Batch    1/   9] Loss:  1.71e-03\n",
            "[Epoch   19/ 100] [Batch    2/   9] Loss:  1.55e-03\n",
            "[Epoch   19/ 100] [Batch    3/   9] Loss:  1.77e-03\n",
            "[Epoch   19/ 100] [Batch    4/   9] Loss:  1.49e-03\n",
            "[Epoch   19/ 100] [Batch    5/   9] Loss:  1.49e-03\n",
            "[Epoch   19/ 100] [Batch    6/   9] Loss:  1.68e-03\n",
            "[Epoch   19/ 100] [Batch    7/   9] Loss:  1.63e-03\n",
            "[Epoch   19/ 100] [Batch    8/   9] Loss:  1.82e-03\n",
            "[Epoch   19/ 100] [Batch    9/   9] Loss:  2.13e-03\n",
            "[Epoch   20/ 100] [Batch    1/   9] Loss:  1.42e-03\n",
            "[Epoch   20/ 100] [Batch    2/   9] Loss:  1.60e-03\n",
            "[Epoch   20/ 100] [Batch    3/   9] Loss:  2.00e-03\n",
            "[Epoch   20/ 100] [Batch    4/   9] Loss:  1.69e-03\n",
            "[Epoch   20/ 100] [Batch    5/   9] Loss:  1.59e-03\n",
            "[Epoch   20/ 100] [Batch    6/   9] Loss:  1.49e-03\n",
            "[Epoch   20/ 100] [Batch    7/   9] Loss:  1.72e-03\n",
            "[Epoch   20/ 100] [Batch    8/   9] Loss:  1.52e-03\n",
            "[Epoch   20/ 100] [Batch    9/   9] Loss:  2.44e-03\n",
            "[Epoch   21/ 100] [Batch    1/   9] Loss:  1.32e-03\n",
            "[Epoch   21/ 100] [Batch    2/   9] Loss:  1.65e-03\n",
            "[Epoch   21/ 100] [Batch    3/   9] Loss:  1.65e-03\n",
            "[Epoch   21/ 100] [Batch    4/   9] Loss:  1.80e-03\n",
            "[Epoch   21/ 100] [Batch    5/   9] Loss:  1.51e-03\n",
            "[Epoch   21/ 100] [Batch    6/   9] Loss:  1.92e-03\n",
            "[Epoch   21/ 100] [Batch    7/   9] Loss:  1.61e-03\n",
            "[Epoch   21/ 100] [Batch    8/   9] Loss:  1.81e-03\n",
            "[Epoch   21/ 100] [Batch    9/   9] Loss:  1.64e-03\n",
            "[Epoch   22/ 100] [Batch    1/   9] Loss:  1.82e-03\n",
            "[Epoch   22/ 100] [Batch    2/   9] Loss:  1.68e-03\n",
            "[Epoch   22/ 100] [Batch    3/   9] Loss:  1.44e-03\n",
            "[Epoch   22/ 100] [Batch    4/   9] Loss:  1.55e-03\n",
            "[Epoch   22/ 100] [Batch    5/   9] Loss:  1.67e-03\n",
            "[Epoch   22/ 100] [Batch    6/   9] Loss:  1.35e-03\n",
            "[Epoch   22/ 100] [Batch    7/   9] Loss:  1.94e-03\n",
            "[Epoch   22/ 100] [Batch    8/   9] Loss:  1.99e-03\n",
            "[Epoch   22/ 100] [Batch    9/   9] Loss:  1.14e-03\n",
            "[Epoch   23/ 100] [Batch    1/   9] Loss:  1.41e-03\n",
            "[Epoch   23/ 100] [Batch    2/   9] Loss:  1.92e-03\n",
            "[Epoch   23/ 100] [Batch    3/   9] Loss:  1.44e-03\n",
            "[Epoch   23/ 100] [Batch    4/   9] Loss:  1.69e-03\n",
            "[Epoch   23/ 100] [Batch    5/   9] Loss:  1.93e-03\n",
            "[Epoch   23/ 100] [Batch    6/   9] Loss:  1.39e-03\n",
            "[Epoch   23/ 100] [Batch    7/   9] Loss:  1.77e-03\n",
            "[Epoch   23/ 100] [Batch    8/   9] Loss:  1.79e-03\n",
            "[Epoch   23/ 100] [Batch    9/   9] Loss:  1.55e-03\n",
            "[Epoch   24/ 100] [Batch    1/   9] Loss:  1.87e-03\n",
            "[Epoch   24/ 100] [Batch    2/   9] Loss:  1.60e-03\n",
            "[Epoch   24/ 100] [Batch    3/   9] Loss:  1.70e-03\n",
            "[Epoch   24/ 100] [Batch    4/   9] Loss:  1.88e-03\n",
            "[Epoch   24/ 100] [Batch    5/   9] Loss:  1.61e-03\n",
            "[Epoch   24/ 100] [Batch    6/   9] Loss:  1.26e-03\n",
            "[Epoch   24/ 100] [Batch    7/   9] Loss:  1.69e-03\n",
            "[Epoch   24/ 100] [Batch    8/   9] Loss:  1.57e-03\n",
            "[Epoch   24/ 100] [Batch    9/   9] Loss:  1.84e-03\n",
            "[Epoch   25/ 100] [Batch    1/   9] Loss:  1.54e-03\n",
            "[Epoch   25/ 100] [Batch    2/   9] Loss:  1.59e-03\n",
            "[Epoch   25/ 100] [Batch    3/   9] Loss:  1.46e-03\n",
            "[Epoch   25/ 100] [Batch    4/   9] Loss:  1.55e-03\n",
            "[Epoch   25/ 100] [Batch    5/   9] Loss:  1.76e-03\n",
            "[Epoch   25/ 100] [Batch    6/   9] Loss:  1.73e-03\n",
            "[Epoch   25/ 100] [Batch    7/   9] Loss:  1.78e-03\n",
            "[Epoch   25/ 100] [Batch    8/   9] Loss:  1.93e-03\n",
            "[Epoch   25/ 100] [Batch    9/   9] Loss:  1.45e-03\n",
            "[Epoch   26/ 100] [Batch    1/   9] Loss:  1.61e-03\n",
            "[Epoch   26/ 100] [Batch    2/   9] Loss:  1.69e-03\n",
            "[Epoch   26/ 100] [Batch    3/   9] Loss:  1.73e-03\n",
            "[Epoch   26/ 100] [Batch    4/   9] Loss:  1.64e-03\n",
            "[Epoch   26/ 100] [Batch    5/   9] Loss:  1.75e-03\n",
            "[Epoch   26/ 100] [Batch    6/   9] Loss:  1.80e-03\n",
            "[Epoch   26/ 100] [Batch    7/   9] Loss:  1.19e-03\n",
            "[Epoch   26/ 100] [Batch    8/   9] Loss:  2.10e-03\n",
            "[Epoch   26/ 100] [Batch    9/   9] Loss:  1.08e-03\n",
            "[Epoch   27/ 100] [Batch    1/   9] Loss:  1.51e-03\n",
            "[Epoch   27/ 100] [Batch    2/   9] Loss:  1.61e-03\n",
            "[Epoch   27/ 100] [Batch    3/   9] Loss:  1.93e-03\n",
            "[Epoch   27/ 100] [Batch    4/   9] Loss:  1.72e-03\n",
            "[Epoch   27/ 100] [Batch    5/   9] Loss:  1.42e-03\n",
            "[Epoch   27/ 100] [Batch    6/   9] Loss:  1.54e-03\n",
            "[Epoch   27/ 100] [Batch    7/   9] Loss:  1.73e-03\n",
            "[Epoch   27/ 100] [Batch    8/   9] Loss:  1.93e-03\n",
            "[Epoch   27/ 100] [Batch    9/   9] Loss:  1.61e-03\n",
            "[Epoch   28/ 100] [Batch    1/   9] Loss:  1.58e-03\n",
            "[Epoch   28/ 100] [Batch    2/   9] Loss:  1.30e-03\n",
            "[Epoch   28/ 100] [Batch    3/   9] Loss:  2.15e-03\n",
            "[Epoch   28/ 100] [Batch    4/   9] Loss:  1.47e-03\n",
            "[Epoch   28/ 100] [Batch    5/   9] Loss:  1.96e-03\n",
            "[Epoch   28/ 100] [Batch    6/   9] Loss:  1.62e-03\n",
            "[Epoch   28/ 100] [Batch    7/   9] Loss:  1.84e-03\n",
            "[Epoch   28/ 100] [Batch    8/   9] Loss:  1.60e-03\n",
            "[Epoch   28/ 100] [Batch    9/   9] Loss:  1.58e-03\n",
            "[Epoch   29/ 100] [Batch    1/   9] Loss:  1.51e-03\n",
            "[Epoch   29/ 100] [Batch    2/   9] Loss:  1.69e-03\n",
            "[Epoch   29/ 100] [Batch    3/   9] Loss:  1.62e-03\n",
            "[Epoch   29/ 100] [Batch    4/   9] Loss:  1.80e-03\n",
            "[Epoch   29/ 100] [Batch    5/   9] Loss:  1.37e-03\n",
            "[Epoch   29/ 100] [Batch    6/   9] Loss:  1.49e-03\n",
            "[Epoch   29/ 100] [Batch    7/   9] Loss:  1.85e-03\n",
            "[Epoch   29/ 100] [Batch    8/   9] Loss:  1.89e-03\n",
            "[Epoch   29/ 100] [Batch    9/   9] Loss:  1.90e-03\n",
            "[Epoch   30/ 100] [Batch    1/   9] Loss:  1.42e-03\n",
            "[Epoch   30/ 100] [Batch    2/   9] Loss:  1.51e-03\n",
            "[Epoch   30/ 100] [Batch    3/   9] Loss:  1.86e-03\n",
            "[Epoch   30/ 100] [Batch    4/   9] Loss:  1.92e-03\n",
            "[Epoch   30/ 100] [Batch    5/   9] Loss:  1.71e-03\n",
            "[Epoch   30/ 100] [Batch    6/   9] Loss:  1.76e-03\n",
            "[Epoch   30/ 100] [Batch    7/   9] Loss:  1.60e-03\n",
            "[Epoch   30/ 100] [Batch    8/   9] Loss:  1.69e-03\n",
            "[Epoch   30/ 100] [Batch    9/   9] Loss:  1.33e-03\n",
            "[Epoch   31/ 100] [Batch    1/   9] Loss:  1.21e-03\n",
            "[Epoch   31/ 100] [Batch    2/   9] Loss:  1.66e-03\n",
            "[Epoch   31/ 100] [Batch    3/   9] Loss:  1.70e-03\n",
            "[Epoch   31/ 100] [Batch    4/   9] Loss:  1.55e-03\n",
            "[Epoch   31/ 100] [Batch    5/   9] Loss:  1.97e-03\n",
            "[Epoch   31/ 100] [Batch    6/   9] Loss:  2.09e-03\n",
            "[Epoch   31/ 100] [Batch    7/   9] Loss:  1.86e-03\n",
            "[Epoch   31/ 100] [Batch    8/   9] Loss:  1.51e-03\n",
            "[Epoch   31/ 100] [Batch    9/   9] Loss:  1.20e-03\n",
            "[Epoch   32/ 100] [Batch    1/   9] Loss:  1.81e-03\n"
          ]
        },
        {
          "name": "stdout",
          "output_type": "stream",
          "text": [
            "[Epoch   32/ 100] [Batch    2/   9] Loss:  1.57e-03\n",
            "[Epoch   32/ 100] [Batch    3/   9] Loss:  1.48e-03\n",
            "[Epoch   32/ 100] [Batch    4/   9] Loss:  1.93e-03\n",
            "[Epoch   32/ 100] [Batch    5/   9] Loss:  1.42e-03\n",
            "[Epoch   32/ 100] [Batch    6/   9] Loss:  1.59e-03\n",
            "[Epoch   32/ 100] [Batch    7/   9] Loss:  1.68e-03\n",
            "[Epoch   32/ 100] [Batch    8/   9] Loss:  1.84e-03\n",
            "[Epoch   32/ 100] [Batch    9/   9] Loss:  1.80e-03\n",
            "[Epoch   33/ 100] [Batch    1/   9] Loss:  1.96e-03\n",
            "[Epoch   33/ 100] [Batch    2/   9] Loss:  1.25e-03\n",
            "[Epoch   33/ 100] [Batch    3/   9] Loss:  1.51e-03\n",
            "[Epoch   33/ 100] [Batch    4/   9] Loss:  1.89e-03\n",
            "[Epoch   33/ 100] [Batch    5/   9] Loss:  1.40e-03\n",
            "[Epoch   33/ 100] [Batch    6/   9] Loss:  1.73e-03\n",
            "[Epoch   33/ 100] [Batch    7/   9] Loss:  1.56e-03\n",
            "[Epoch   33/ 100] [Batch    8/   9] Loss:  1.70e-03\n",
            "[Epoch   33/ 100] [Batch    9/   9] Loss:  2.64e-03\n",
            "[Epoch   34/ 100] [Batch    1/   9] Loss:  1.67e-03\n",
            "[Epoch   34/ 100] [Batch    2/   9] Loss:  1.37e-03\n",
            "[Epoch   34/ 100] [Batch    3/   9] Loss:  1.73e-03\n",
            "[Epoch   34/ 100] [Batch    4/   9] Loss:  1.99e-03\n",
            "[Epoch   34/ 100] [Batch    5/   9] Loss:  1.68e-03\n",
            "[Epoch   34/ 100] [Batch    6/   9] Loss:  1.95e-03\n",
            "[Epoch   34/ 100] [Batch    7/   9] Loss:  1.69e-03\n",
            "[Epoch   34/ 100] [Batch    8/   9] Loss:  1.51e-03\n",
            "[Epoch   34/ 100] [Batch    9/   9] Loss:  1.05e-03\n",
            "[Epoch   35/ 100] [Batch    1/   9] Loss:  2.25e-03\n",
            "[Epoch   35/ 100] [Batch    2/   9] Loss:  1.54e-03\n",
            "[Epoch   35/ 100] [Batch    3/   9] Loss:  1.72e-03\n",
            "[Epoch   35/ 100] [Batch    4/   9] Loss:  1.58e-03\n",
            "[Epoch   35/ 100] [Batch    5/   9] Loss:  1.57e-03\n",
            "[Epoch   35/ 100] [Batch    6/   9] Loss:  1.55e-03\n",
            "[Epoch   35/ 100] [Batch    7/   9] Loss:  1.54e-03\n",
            "[Epoch   35/ 100] [Batch    8/   9] Loss:  1.54e-03\n",
            "[Epoch   35/ 100] [Batch    9/   9] Loss:  1.70e-03\n",
            "[Epoch   36/ 100] [Batch    1/   9] Loss:  1.74e-03\n",
            "[Epoch   36/ 100] [Batch    2/   9] Loss:  1.34e-03\n",
            "[Epoch   36/ 100] [Batch    3/   9] Loss:  1.64e-03\n",
            "[Epoch   36/ 100] [Batch    4/   9] Loss:  2.01e-03\n",
            "[Epoch   36/ 100] [Batch    5/   9] Loss:  1.57e-03\n",
            "[Epoch   36/ 100] [Batch    6/   9] Loss:  1.60e-03\n",
            "[Epoch   36/ 100] [Batch    7/   9] Loss:  1.77e-03\n",
            "[Epoch   36/ 100] [Batch    8/   9] Loss:  1.56e-03\n",
            "[Epoch   36/ 100] [Batch    9/   9] Loss:  1.83e-03\n",
            "[Epoch   37/ 100] [Batch    1/   9] Loss:  1.90e-03\n",
            "[Epoch   37/ 100] [Batch    2/   9] Loss:  1.62e-03\n",
            "[Epoch   37/ 100] [Batch    3/   9] Loss:  1.75e-03\n",
            "[Epoch   37/ 100] [Batch    4/   9] Loss:  1.46e-03\n",
            "[Epoch   37/ 100] [Batch    5/   9] Loss:  1.71e-03\n",
            "[Epoch   37/ 100] [Batch    6/   9] Loss:  1.22e-03\n",
            "[Epoch   37/ 100] [Batch    7/   9] Loss:  1.85e-03\n",
            "[Epoch   37/ 100] [Batch    8/   9] Loss:  1.88e-03\n",
            "[Epoch   37/ 100] [Batch    9/   9] Loss:  1.31e-03\n",
            "[Epoch   38/ 100] [Batch    1/   9] Loss:  1.65e-03\n",
            "[Epoch   38/ 100] [Batch    2/   9] Loss:  1.55e-03\n",
            "[Epoch   38/ 100] [Batch    3/   9] Loss:  1.53e-03\n",
            "[Epoch   38/ 100] [Batch    4/   9] Loss:  1.88e-03\n",
            "[Epoch   38/ 100] [Batch    5/   9] Loss:  1.47e-03\n",
            "[Epoch   38/ 100] [Batch    6/   9] Loss:  1.53e-03\n",
            "[Epoch   38/ 100] [Batch    7/   9] Loss:  2.05e-03\n",
            "[Epoch   38/ 100] [Batch    8/   9] Loss:  1.82e-03\n",
            "[Epoch   38/ 100] [Batch    9/   9] Loss:  1.07e-03\n",
            "[Epoch   39/ 100] [Batch    1/   9] Loss:  1.62e-03\n",
            "[Epoch   39/ 100] [Batch    2/   9] Loss:  1.29e-03\n",
            "[Epoch   39/ 100] [Batch    3/   9] Loss:  1.63e-03\n",
            "[Epoch   39/ 100] [Batch    4/   9] Loss:  1.70e-03\n",
            "[Epoch   39/ 100] [Batch    5/   9] Loss:  1.97e-03\n",
            "[Epoch   39/ 100] [Batch    6/   9] Loss:  1.85e-03\n",
            "[Epoch   39/ 100] [Batch    7/   9] Loss:  1.39e-03\n",
            "[Epoch   39/ 100] [Batch    8/   9] Loss:  1.94e-03\n",
            "[Epoch   39/ 100] [Batch    9/   9] Loss:  1.26e-03\n",
            "[Epoch   40/ 100] [Batch    1/   9] Loss:  1.59e-03\n",
            "[Epoch   40/ 100] [Batch    2/   9] Loss:  1.40e-03\n",
            "[Epoch   40/ 100] [Batch    3/   9] Loss:  1.56e-03\n",
            "[Epoch   40/ 100] [Batch    4/   9] Loss:  1.60e-03\n",
            "[Epoch   40/ 100] [Batch    5/   9] Loss:  1.82e-03\n",
            "[Epoch   40/ 100] [Batch    6/   9] Loss:  1.98e-03\n",
            "[Epoch   40/ 100] [Batch    7/   9] Loss:  1.57e-03\n",
            "[Epoch   40/ 100] [Batch    8/   9] Loss:  1.33e-03\n",
            "[Epoch   40/ 100] [Batch    9/   9] Loss:  2.96e-03\n",
            "[Epoch   41/ 100] [Batch    1/   9] Loss:  1.62e-03\n",
            "[Epoch   41/ 100] [Batch    2/   9] Loss:  1.56e-03\n",
            "[Epoch   41/ 100] [Batch    3/   9] Loss:  1.83e-03\n",
            "[Epoch   41/ 100] [Batch    4/   9] Loss:  1.80e-03\n",
            "[Epoch   41/ 100] [Batch    5/   9] Loss:  1.60e-03\n",
            "[Epoch   41/ 100] [Batch    6/   9] Loss:  1.67e-03\n",
            "[Epoch   41/ 100] [Batch    7/   9] Loss:  1.61e-03\n",
            "[Epoch   41/ 100] [Batch    8/   9] Loss:  1.79e-03\n",
            "[Epoch   41/ 100] [Batch    9/   9] Loss:  1.14e-03\n",
            "[Epoch   42/ 100] [Batch    1/   9] Loss:  1.53e-03\n",
            "[Epoch   42/ 100] [Batch    2/   9] Loss:  1.67e-03\n",
            "[Epoch   42/ 100] [Batch    3/   9] Loss:  1.54e-03\n",
            "[Epoch   42/ 100] [Batch    4/   9] Loss:  1.69e-03\n",
            "[Epoch   42/ 100] [Batch    5/   9] Loss:  1.77e-03\n",
            "[Epoch   42/ 100] [Batch    6/   9] Loss:  1.80e-03\n",
            "[Epoch   42/ 100] [Batch    7/   9] Loss:  1.80e-03\n",
            "[Epoch   42/ 100] [Batch    8/   9] Loss:  1.54e-03\n",
            "[Epoch   42/ 100] [Batch    9/   9] Loss:  1.43e-03\n",
            "[Epoch   43/ 100] [Batch    1/   9] Loss:  1.43e-03\n",
            "[Epoch   43/ 100] [Batch    2/   9] Loss:  1.94e-03\n",
            "[Epoch   43/ 100] [Batch    3/   9] Loss:  1.85e-03\n",
            "[Epoch   43/ 100] [Batch    4/   9] Loss:  2.04e-03\n",
            "[Epoch   43/ 100] [Batch    5/   9] Loss:  1.47e-03\n",
            "[Epoch   43/ 100] [Batch    6/   9] Loss:  1.51e-03\n",
            "[Epoch   43/ 100] [Batch    7/   9] Loss:  1.25e-03\n",
            "[Epoch   43/ 100] [Batch    8/   9] Loss:  1.88e-03\n",
            "[Epoch   43/ 100] [Batch    9/   9] Loss:  1.47e-03\n",
            "[Epoch   44/ 100] [Batch    1/   9] Loss:  1.65e-03\n",
            "[Epoch   44/ 100] [Batch    2/   9] Loss:  1.74e-03\n",
            "[Epoch   44/ 100] [Batch    3/   9] Loss:  1.50e-03\n",
            "[Epoch   44/ 100] [Batch    4/   9] Loss:  1.69e-03\n",
            "[Epoch   44/ 100] [Batch    5/   9] Loss:  1.53e-03\n",
            "[Epoch   44/ 100] [Batch    6/   9] Loss:  1.79e-03\n",
            "[Epoch   44/ 100] [Batch    7/   9] Loss:  1.70e-03\n",
            "[Epoch   44/ 100] [Batch    8/   9] Loss:  1.64e-03\n",
            "[Epoch   44/ 100] [Batch    9/   9] Loss:  1.73e-03\n",
            "[Epoch   45/ 100] [Batch    1/   9] Loss:  2.04e-03\n",
            "[Epoch   45/ 100] [Batch    2/   9] Loss:  1.45e-03\n",
            "[Epoch   45/ 100] [Batch    3/   9] Loss:  1.67e-03\n",
            "[Epoch   45/ 100] [Batch    4/   9] Loss:  1.26e-03\n",
            "[Epoch   45/ 100] [Batch    5/   9] Loss:  1.81e-03\n",
            "[Epoch   45/ 100] [Batch    6/   9] Loss:  1.54e-03\n",
            "[Epoch   45/ 100] [Batch    7/   9] Loss:  1.80e-03\n",
            "[Epoch   45/ 100] [Batch    8/   9] Loss:  1.63e-03\n",
            "[Epoch   45/ 100] [Batch    9/   9] Loss:  1.90e-03\n",
            "[Epoch   46/ 100] [Batch    1/   9] Loss:  1.64e-03\n",
            "[Epoch   46/ 100] [Batch    2/   9] Loss:  1.76e-03\n",
            "[Epoch   46/ 100] [Batch    3/   9] Loss:  1.70e-03\n",
            "[Epoch   46/ 100] [Batch    4/   9] Loss:  1.51e-03\n",
            "[Epoch   46/ 100] [Batch    5/   9] Loss:  1.72e-03\n",
            "[Epoch   46/ 100] [Batch    6/   9] Loss:  1.48e-03\n",
            "[Epoch   46/ 100] [Batch    7/   9] Loss:  1.66e-03\n",
            "[Epoch   46/ 100] [Batch    8/   9] Loss:  1.84e-03\n",
            "[Epoch   46/ 100] [Batch    9/   9] Loss:  1.62e-03\n",
            "[Epoch   47/ 100] [Batch    1/   9] Loss:  1.98e-03\n",
            "[Epoch   47/ 100] [Batch    2/   9] Loss:  1.54e-03\n",
            "[Epoch   47/ 100] [Batch    3/   9] Loss:  1.53e-03\n",
            "[Epoch   47/ 100] [Batch    4/   9] Loss:  1.42e-03\n",
            "[Epoch   47/ 100] [Batch    5/   9] Loss:  2.22e-03\n",
            "[Epoch   47/ 100] [Batch    6/   9] Loss:  1.43e-03\n",
            "[Epoch   47/ 100] [Batch    7/   9] Loss:  1.57e-03\n",
            "[Epoch   47/ 100] [Batch    8/   9] Loss:  1.76e-03\n",
            "[Epoch   47/ 100] [Batch    9/   9] Loss:  1.55e-03\n",
            "[Epoch   48/ 100] [Batch    1/   9] Loss:  1.26e-03\n",
            "[Epoch   48/ 100] [Batch    2/   9] Loss:  1.61e-03\n",
            "[Epoch   48/ 100] [Batch    3/   9] Loss:  1.67e-03\n",
            "[Epoch   48/ 100] [Batch    4/   9] Loss:  2.07e-03\n",
            "[Epoch   48/ 100] [Batch    5/   9] Loss:  1.67e-03\n",
            "[Epoch   48/ 100] [Batch    6/   9] Loss:  1.68e-03\n",
            "[Epoch   48/ 100] [Batch    7/   9] Loss:  1.82e-03\n",
            "[Epoch   48/ 100] [Batch    8/   9] Loss:  1.67e-03\n",
            "[Epoch   48/ 100] [Batch    9/   9] Loss:  1.22e-03\n",
            "[Epoch   49/ 100] [Batch    1/   9] Loss:  1.57e-03\n",
            "[Epoch   49/ 100] [Batch    2/   9] Loss:  1.53e-03\n",
            "[Epoch   49/ 100] [Batch    3/   9] Loss:  1.29e-03\n",
            "[Epoch   49/ 100] [Batch    4/   9] Loss:  1.87e-03\n",
            "[Epoch   49/ 100] [Batch    5/   9] Loss:  1.78e-03\n",
            "[Epoch   49/ 100] [Batch    6/   9] Loss:  2.03e-03\n",
            "[Epoch   49/ 100] [Batch    7/   9] Loss:  1.50e-03\n",
            "[Epoch   49/ 100] [Batch    8/   9] Loss:  1.74e-03\n",
            "[Epoch   49/ 100] [Batch    9/   9] Loss:  1.72e-03\n",
            "[Epoch   50/ 100] [Batch    1/   9] Loss:  1.96e-03\n",
            "[Epoch   50/ 100] [Batch    2/   9] Loss:  1.54e-03\n",
            "[Epoch   50/ 100] [Batch    3/   9] Loss:  1.39e-03\n",
            "[Epoch   50/ 100] [Batch    4/   9] Loss:  1.43e-03\n",
            "[Epoch   50/ 100] [Batch    5/   9] Loss:  1.51e-03\n",
            "[Epoch   50/ 100] [Batch    6/   9] Loss:  1.85e-03\n",
            "[Epoch   50/ 100] [Batch    7/   9] Loss:  1.68e-03\n",
            "[Epoch   50/ 100] [Batch    8/   9] Loss:  1.66e-03\n",
            "[Epoch   50/ 100] [Batch    9/   9] Loss:  2.44e-03\n",
            "[Epoch   51/ 100] [Batch    1/   9] Loss:  1.86e-03\n",
            "[Epoch   51/ 100] [Batch    2/   9] Loss:  1.78e-03\n",
            "[Epoch   51/ 100] [Batch    3/   9] Loss:  1.85e-03\n",
            "[Epoch   51/ 100] [Batch    4/   9] Loss:  1.44e-03\n",
            "[Epoch   51/ 100] [Batch    5/   9] Loss:  1.57e-03\n",
            "[Epoch   51/ 100] [Batch    6/   9] Loss:  1.38e-03\n",
            "[Epoch   51/ 100] [Batch    7/   9] Loss:  1.62e-03\n",
            "[Epoch   51/ 100] [Batch    8/   9] Loss:  1.53e-03\n",
            "[Epoch   51/ 100] [Batch    9/   9] Loss:  2.39e-03\n",
            "[Epoch   52/ 100] [Batch    1/   9] Loss:  1.49e-03\n",
            "[Epoch   52/ 100] [Batch    2/   9] Loss:  1.40e-03\n",
            "[Epoch   52/ 100] [Batch    3/   9] Loss:  2.06e-03\n",
            "[Epoch   52/ 100] [Batch    4/   9] Loss:  1.48e-03\n",
            "[Epoch   52/ 100] [Batch    5/   9] Loss:  1.69e-03\n",
            "[Epoch   52/ 100] [Batch    6/   9] Loss:  1.69e-03\n",
            "[Epoch   52/ 100] [Batch    7/   9] Loss:  1.83e-03\n",
            "[Epoch   52/ 100] [Batch    8/   9] Loss:  1.72e-03\n",
            "[Epoch   52/ 100] [Batch    9/   9] Loss:  1.62e-03\n",
            "[Epoch   53/ 100] [Batch    1/   9] Loss:  1.75e-03\n",
            "[Epoch   53/ 100] [Batch    2/   9] Loss:  1.86e-03\n",
            "[Epoch   53/ 100] [Batch    3/   9] Loss:  1.94e-03\n",
            "[Epoch   53/ 100] [Batch    4/   9] Loss:  1.63e-03\n",
            "[Epoch   53/ 100] [Batch    5/   9] Loss:  1.44e-03\n",
            "[Epoch   53/ 100] [Batch    6/   9] Loss:  1.91e-03\n",
            "[Epoch   53/ 100] [Batch    7/   9] Loss:  1.40e-03\n",
            "[Epoch   53/ 100] [Batch    8/   9] Loss:  1.47e-03\n",
            "[Epoch   53/ 100] [Batch    9/   9] Loss:  1.46e-03\n",
            "[Epoch   54/ 100] [Batch    1/   9] Loss:  1.42e-03\n",
            "[Epoch   54/ 100] [Batch    2/   9] Loss:  1.88e-03\n",
            "[Epoch   54/ 100] [Batch    3/   9] Loss:  1.68e-03\n",
            "[Epoch   54/ 100] [Batch    4/   9] Loss:  1.65e-03\n",
            "[Epoch   54/ 100] [Batch    5/   9] Loss:  1.93e-03\n",
            "[Epoch   54/ 100] [Batch    6/   9] Loss:  1.44e-03\n",
            "[Epoch   54/ 100] [Batch    7/   9] Loss:  1.52e-03\n",
            "[Epoch   54/ 100] [Batch    8/   9] Loss:  1.75e-03\n",
            "[Epoch   54/ 100] [Batch    9/   9] Loss:  1.75e-03\n",
            "[Epoch   55/ 100] [Batch    1/   9] Loss:  1.73e-03\n",
            "[Epoch   55/ 100] [Batch    2/   9] Loss:  1.79e-03\n",
            "[Epoch   55/ 100] [Batch    3/   9] Loss:  1.59e-03\n",
            "[Epoch   55/ 100] [Batch    4/   9] Loss:  1.58e-03\n",
            "[Epoch   55/ 100] [Batch    5/   9] Loss:  1.94e-03\n",
            "[Epoch   55/ 100] [Batch    6/   9] Loss:  1.52e-03\n",
            "[Epoch   55/ 100] [Batch    7/   9] Loss:  1.57e-03\n",
            "[Epoch   55/ 100] [Batch    8/   9] Loss:  1.64e-03\n",
            "[Epoch   55/ 100] [Batch    9/   9] Loss:  1.60e-03\n",
            "[Epoch   56/ 100] [Batch    1/   9] Loss:  2.04e-03\n",
            "[Epoch   56/ 100] [Batch    2/   9] Loss:  1.65e-03\n",
            "[Epoch   56/ 100] [Batch    3/   9] Loss:  1.36e-03\n",
            "[Epoch   56/ 100] [Batch    4/   9] Loss:  1.32e-03\n",
            "[Epoch   56/ 100] [Batch    5/   9] Loss:  1.71e-03\n",
            "[Epoch   56/ 100] [Batch    6/   9] Loss:  1.50e-03\n",
            "[Epoch   56/ 100] [Batch    7/   9] Loss:  1.68e-03\n",
            "[Epoch   56/ 100] [Batch    8/   9] Loss:  1.63e-03\n",
            "[Epoch   56/ 100] [Batch    9/   9] Loss:  2.90e-03\n",
            "[Epoch   57/ 100] [Batch    1/   9] Loss:  1.60e-03\n",
            "[Epoch   57/ 100] [Batch    2/   9] Loss:  1.55e-03\n",
            "[Epoch   57/ 100] [Batch    3/   9] Loss:  1.72e-03\n",
            "[Epoch   57/ 100] [Batch    4/   9] Loss:  1.51e-03\n",
            "[Epoch   57/ 100] [Batch    5/   9] Loss:  2.06e-03\n",
            "[Epoch   57/ 100] [Batch    6/   9] Loss:  1.83e-03\n",
            "[Epoch   57/ 100] [Batch    7/   9] Loss:  1.24e-03\n",
            "[Epoch   57/ 100] [Batch    8/   9] Loss:  1.75e-03\n",
            "[Epoch   57/ 100] [Batch    9/   9] Loss:  1.86e-03\n",
            "[Epoch   58/ 100] [Batch    1/   9] Loss:  1.40e-03\n",
            "[Epoch   58/ 100] [Batch    2/   9] Loss:  1.70e-03\n",
            "[Epoch   58/ 100] [Batch    3/   9] Loss:  1.70e-03\n",
            "[Epoch   58/ 100] [Batch    4/   9] Loss:  1.79e-03\n",
            "[Epoch   58/ 100] [Batch    5/   9] Loss:  1.70e-03\n",
            "[Epoch   58/ 100] [Batch    6/   9] Loss:  1.65e-03\n",
            "[Epoch   58/ 100] [Batch    7/   9] Loss:  1.44e-03\n",
            "[Epoch   58/ 100] [Batch    8/   9] Loss:  1.76e-03\n",
            "[Epoch   58/ 100] [Batch    9/   9] Loss:  2.08e-03\n",
            "[Epoch   59/ 100] [Batch    1/   9] Loss:  1.67e-03\n",
            "[Epoch   59/ 100] [Batch    2/   9] Loss:  1.85e-03\n",
            "[Epoch   59/ 100] [Batch    3/   9] Loss:  1.79e-03\n",
            "[Epoch   59/ 100] [Batch    4/   9] Loss:  1.78e-03\n",
            "[Epoch   59/ 100] [Batch    5/   9] Loss:  1.44e-03\n",
            "[Epoch   59/ 100] [Batch    6/   9] Loss:  1.19e-03\n",
            "[Epoch   59/ 100] [Batch    7/   9] Loss:  1.73e-03\n",
            "[Epoch   59/ 100] [Batch    8/   9] Loss:  1.70e-03\n",
            "[Epoch   59/ 100] [Batch    9/   9] Loss:  1.99e-03\n",
            "[Epoch   60/ 100] [Batch    1/   9] Loss:  1.56e-03\n",
            "[Epoch   60/ 100] [Batch    2/   9] Loss:  1.48e-03\n",
            "[Epoch   60/ 100] [Batch    3/   9] Loss:  1.54e-03\n",
            "[Epoch   60/ 100] [Batch    4/   9] Loss:  1.87e-03\n",
            "[Epoch   60/ 100] [Batch    5/   9] Loss:  1.50e-03\n",
            "[Epoch   60/ 100] [Batch    6/   9] Loss:  1.65e-03\n",
            "[Epoch   60/ 100] [Batch    7/   9] Loss:  1.83e-03\n",
            "[Epoch   60/ 100] [Batch    8/   9] Loss:  2.16e-03\n",
            "[Epoch   60/ 100] [Batch    9/   9] Loss:  8.76e-04\n",
            "[Epoch   61/ 100] [Batch    1/   9] Loss:  1.27e-03\n",
            "[Epoch   61/ 100] [Batch    2/   9] Loss:  1.86e-03\n",
            "[Epoch   61/ 100] [Batch    3/   9] Loss:  1.39e-03\n",
            "[Epoch   61/ 100] [Batch    4/   9] Loss:  1.78e-03\n",
            "[Epoch   61/ 100] [Batch    5/   9] Loss:  1.81e-03\n",
            "[Epoch   61/ 100] [Batch    6/   9] Loss:  1.75e-03\n",
            "[Epoch   61/ 100] [Batch    7/   9] Loss:  1.78e-03\n",
            "[Epoch   61/ 100] [Batch    8/   9] Loss:  1.65e-03\n",
            "[Epoch   61/ 100] [Batch    9/   9] Loss:  2.19e-03\n",
            "[Epoch   62/ 100] [Batch    1/   9] Loss:  1.62e-03\n",
            "[Epoch   62/ 100] [Batch    2/   9] Loss:  1.99e-03\n",
            "[Epoch   62/ 100] [Batch    3/   9] Loss:  1.44e-03\n",
            "[Epoch   62/ 100] [Batch    4/   9] Loss:  1.47e-03\n",
            "[Epoch   62/ 100] [Batch    5/   9] Loss:  1.80e-03\n",
            "[Epoch   62/ 100] [Batch    6/   9] Loss:  1.59e-03\n",
            "[Epoch   62/ 100] [Batch    7/   9] Loss:  1.72e-03\n",
            "[Epoch   62/ 100] [Batch    8/   9] Loss:  1.62e-03\n",
            "[Epoch   62/ 100] [Batch    9/   9] Loss:  2.02e-03\n",
            "[Epoch   63/ 100] [Batch    1/   9] Loss:  1.83e-03\n",
            "[Epoch   63/ 100] [Batch    2/   9] Loss:  1.74e-03\n",
            "[Epoch   63/ 100] [Batch    3/   9] Loss:  1.86e-03\n",
            "[Epoch   63/ 100] [Batch    4/   9] Loss:  1.22e-03\n",
            "[Epoch   63/ 100] [Batch    5/   9] Loss:  1.50e-03\n",
            "[Epoch   63/ 100] [Batch    6/   9] Loss:  1.40e-03\n",
            "[Epoch   63/ 100] [Batch    7/   9] Loss:  1.86e-03\n",
            "[Epoch   63/ 100] [Batch    8/   9] Loss:  1.86e-03\n",
            "[Epoch   63/ 100] [Batch    9/   9] Loss:  2.11e-03\n",
            "[Epoch   64/ 100] [Batch    1/   9] Loss:  1.23e-03\n",
            "[Epoch   64/ 100] [Batch    2/   9] Loss:  1.67e-03\n",
            "[Epoch   64/ 100] [Batch    3/   9] Loss:  1.49e-03\n",
            "[Epoch   64/ 100] [Batch    4/   9] Loss:  1.97e-03\n",
            "[Epoch   64/ 100] [Batch    5/   9] Loss:  1.92e-03\n",
            "[Epoch   64/ 100] [Batch    6/   9] Loss:  1.79e-03\n",
            "[Epoch   64/ 100] [Batch    7/   9] Loss:  1.91e-03\n",
            "[Epoch   64/ 100] [Batch    8/   9] Loss:  1.37e-03\n"
          ]
        },
        {
          "name": "stdout",
          "output_type": "stream",
          "text": [
            "[Epoch   64/ 100] [Batch    9/   9] Loss:  1.94e-03\n",
            "[Epoch   65/ 100] [Batch    1/   9] Loss:  2.02e-03\n",
            "[Epoch   65/ 100] [Batch    2/   9] Loss:  1.98e-03\n",
            "[Epoch   65/ 100] [Batch    3/   9] Loss:  1.82e-03\n",
            "[Epoch   65/ 100] [Batch    4/   9] Loss:  1.69e-03\n",
            "[Epoch   65/ 100] [Batch    5/   9] Loss:  1.39e-03\n",
            "[Epoch   65/ 100] [Batch    6/   9] Loss:  1.26e-03\n",
            "[Epoch   65/ 100] [Batch    7/   9] Loss:  1.46e-03\n",
            "[Epoch   65/ 100] [Batch    8/   9] Loss:  1.89e-03\n",
            "[Epoch   65/ 100] [Batch    9/   9] Loss:  1.19e-03\n",
            "[Epoch   66/ 100] [Batch    1/   9] Loss:  1.83e-03\n",
            "[Epoch   66/ 100] [Batch    2/   9] Loss:  1.63e-03\n",
            "[Epoch   66/ 100] [Batch    3/   9] Loss:  1.49e-03\n",
            "[Epoch   66/ 100] [Batch    4/   9] Loss:  1.57e-03\n",
            "[Epoch   66/ 100] [Batch    5/   9] Loss:  1.83e-03\n",
            "[Epoch   66/ 100] [Batch    6/   9] Loss:  1.92e-03\n",
            "[Epoch   66/ 100] [Batch    7/   9] Loss:  1.63e-03\n",
            "[Epoch   66/ 100] [Batch    8/   9] Loss:  1.49e-03\n",
            "[Epoch   66/ 100] [Batch    9/   9] Loss:  1.33e-03\n",
            "[Epoch   67/ 100] [Batch    1/   9] Loss:  1.84e-03\n",
            "[Epoch   67/ 100] [Batch    2/   9] Loss:  1.80e-03\n",
            "[Epoch   67/ 100] [Batch    3/   9] Loss:  1.42e-03\n",
            "[Epoch   67/ 100] [Batch    4/   9] Loss:  1.59e-03\n",
            "[Epoch   67/ 100] [Batch    5/   9] Loss:  1.82e-03\n",
            "[Epoch   67/ 100] [Batch    6/   9] Loss:  1.64e-03\n",
            "[Epoch   67/ 100] [Batch    7/   9] Loss:  1.82e-03\n",
            "[Epoch   67/ 100] [Batch    8/   9] Loss:  1.59e-03\n",
            "[Epoch   67/ 100] [Batch    9/   9] Loss:  9.50e-04\n",
            "[Epoch   68/ 100] [Batch    1/   9] Loss:  1.58e-03\n",
            "[Epoch   68/ 100] [Batch    2/   9] Loss:  1.47e-03\n",
            "[Epoch   68/ 100] [Batch    3/   9] Loss:  1.72e-03\n",
            "[Epoch   68/ 100] [Batch    4/   9] Loss:  1.79e-03\n",
            "[Epoch   68/ 100] [Batch    5/   9] Loss:  1.89e-03\n",
            "[Epoch   68/ 100] [Batch    6/   9] Loss:  1.72e-03\n",
            "[Epoch   68/ 100] [Batch    7/   9] Loss:  1.89e-03\n",
            "[Epoch   68/ 100] [Batch    8/   9] Loss:  1.55e-03\n",
            "[Epoch   68/ 100] [Batch    9/   9] Loss:  1.34e-03\n",
            "[Epoch   69/ 100] [Batch    1/   9] Loss:  1.65e-03\n",
            "[Epoch   69/ 100] [Batch    2/   9] Loss:  2.10e-03\n",
            "[Epoch   69/ 100] [Batch    3/   9] Loss:  1.46e-03\n",
            "[Epoch   69/ 100] [Batch    4/   9] Loss:  1.53e-03\n",
            "[Epoch   69/ 100] [Batch    5/   9] Loss:  1.83e-03\n",
            "[Epoch   69/ 100] [Batch    6/   9] Loss:  1.59e-03\n",
            "[Epoch   69/ 100] [Batch    7/   9] Loss:  1.66e-03\n",
            "[Epoch   69/ 100] [Batch    8/   9] Loss:  1.68e-03\n",
            "[Epoch   69/ 100] [Batch    9/   9] Loss:  1.40e-03\n",
            "[Epoch   70/ 100] [Batch    1/   9] Loss:  1.84e-03\n",
            "[Epoch   70/ 100] [Batch    2/   9] Loss:  1.30e-03\n",
            "[Epoch   70/ 100] [Batch    3/   9] Loss:  1.50e-03\n",
            "[Epoch   70/ 100] [Batch    4/   9] Loss:  1.27e-03\n",
            "[Epoch   70/ 100] [Batch    5/   9] Loss:  1.88e-03\n",
            "[Epoch   70/ 100] [Batch    6/   9] Loss:  2.04e-03\n",
            "[Epoch   70/ 100] [Batch    7/   9] Loss:  1.61e-03\n",
            "[Epoch   70/ 100] [Batch    8/   9] Loss:  1.82e-03\n",
            "[Epoch   70/ 100] [Batch    9/   9] Loss:  1.74e-03\n",
            "[Epoch   71/ 100] [Batch    1/   9] Loss:  1.63e-03\n",
            "[Epoch   71/ 100] [Batch    2/   9] Loss:  1.85e-03\n",
            "[Epoch   71/ 100] [Batch    3/   9] Loss:  1.68e-03\n",
            "[Epoch   71/ 100] [Batch    4/   9] Loss:  1.64e-03\n",
            "[Epoch   71/ 100] [Batch    5/   9] Loss:  1.78e-03\n",
            "[Epoch   71/ 100] [Batch    6/   9] Loss:  1.36e-03\n",
            "[Epoch   71/ 100] [Batch    7/   9] Loss:  1.89e-03\n",
            "[Epoch   71/ 100] [Batch    8/   9] Loss:  1.48e-03\n",
            "[Epoch   71/ 100] [Batch    9/   9] Loss:  1.85e-03\n",
            "[Epoch   72/ 100] [Batch    1/   9] Loss:  1.80e-03\n",
            "[Epoch   72/ 100] [Batch    2/   9] Loss:  1.30e-03\n",
            "[Epoch   72/ 100] [Batch    3/   9] Loss:  1.43e-03\n",
            "[Epoch   72/ 100] [Batch    4/   9] Loss:  2.07e-03\n",
            "[Epoch   72/ 100] [Batch    5/   9] Loss:  1.70e-03\n",
            "[Epoch   72/ 100] [Batch    6/   9] Loss:  1.62e-03\n",
            "[Epoch   72/ 100] [Batch    7/   9] Loss:  1.69e-03\n",
            "[Epoch   72/ 100] [Batch    8/   9] Loss:  1.53e-03\n",
            "[Epoch   72/ 100] [Batch    9/   9] Loss:  2.19e-03\n",
            "[Epoch   73/ 100] [Batch    1/   9] Loss:  1.89e-03\n",
            "[Epoch   73/ 100] [Batch    2/   9] Loss:  1.74e-03\n",
            "[Epoch   73/ 100] [Batch    3/   9] Loss:  1.26e-03\n",
            "[Epoch   73/ 100] [Batch    4/   9] Loss:  1.54e-03\n",
            "[Epoch   73/ 100] [Batch    5/   9] Loss:  1.53e-03\n",
            "[Epoch   73/ 100] [Batch    6/   9] Loss:  2.11e-03\n",
            "[Epoch   73/ 100] [Batch    7/   9] Loss:  1.57e-03\n",
            "[Epoch   73/ 100] [Batch    8/   9] Loss:  1.71e-03\n",
            "[Epoch   73/ 100] [Batch    9/   9] Loss:  1.43e-03\n",
            "[Epoch   74/ 100] [Batch    1/   9] Loss:  1.56e-03\n",
            "[Epoch   74/ 100] [Batch    2/   9] Loss:  1.56e-03\n",
            "[Epoch   74/ 100] [Batch    3/   9] Loss:  1.87e-03\n",
            "[Epoch   74/ 100] [Batch    4/   9] Loss:  1.48e-03\n",
            "[Epoch   74/ 100] [Batch    5/   9] Loss:  1.80e-03\n",
            "[Epoch   74/ 100] [Batch    6/   9] Loss:  1.64e-03\n",
            "[Epoch   74/ 100] [Batch    7/   9] Loss:  1.52e-03\n",
            "[Epoch   74/ 100] [Batch    8/   9] Loss:  1.79e-03\n",
            "[Epoch   74/ 100] [Batch    9/   9] Loss:  1.88e-03\n",
            "[Epoch   75/ 100] [Batch    1/   9] Loss:  1.91e-03\n",
            "[Epoch   75/ 100] [Batch    2/   9] Loss:  1.68e-03\n",
            "[Epoch   75/ 100] [Batch    3/   9] Loss:  1.60e-03\n",
            "[Epoch   75/ 100] [Batch    4/   9] Loss:  1.42e-03\n",
            "[Epoch   75/ 100] [Batch    5/   9] Loss:  1.87e-03\n",
            "[Epoch   75/ 100] [Batch    6/   9] Loss:  1.71e-03\n",
            "[Epoch   75/ 100] [Batch    7/   9] Loss:  1.68e-03\n",
            "[Epoch   75/ 100] [Batch    8/   9] Loss:  1.35e-03\n",
            "[Epoch   75/ 100] [Batch    9/   9] Loss:  1.84e-03\n",
            "[Epoch   76/ 100] [Batch    1/   9] Loss:  1.63e-03\n",
            "[Epoch   76/ 100] [Batch    2/   9] Loss:  1.53e-03\n",
            "[Epoch   76/ 100] [Batch    3/   9] Loss:  1.89e-03\n",
            "[Epoch   76/ 100] [Batch    4/   9] Loss:  1.76e-03\n",
            "[Epoch   76/ 100] [Batch    5/   9] Loss:  1.58e-03\n",
            "[Epoch   76/ 100] [Batch    6/   9] Loss:  1.59e-03\n",
            "[Epoch   76/ 100] [Batch    7/   9] Loss:  1.43e-03\n",
            "[Epoch   76/ 100] [Batch    8/   9] Loss:  1.66e-03\n",
            "[Epoch   76/ 100] [Batch    9/   9] Loss:  2.38e-03\n",
            "[Epoch   77/ 100] [Batch    1/   9] Loss:  1.80e-03\n",
            "[Epoch   77/ 100] [Batch    2/   9] Loss:  1.40e-03\n",
            "[Epoch   77/ 100] [Batch    3/   9] Loss:  1.86e-03\n",
            "[Epoch   77/ 100] [Batch    4/   9] Loss:  1.58e-03\n",
            "[Epoch   77/ 100] [Batch    5/   9] Loss:  2.04e-03\n",
            "[Epoch   77/ 100] [Batch    6/   9] Loss:  1.55e-03\n",
            "[Epoch   77/ 100] [Batch    7/   9] Loss:  1.67e-03\n",
            "[Epoch   77/ 100] [Batch    8/   9] Loss:  1.53e-03\n",
            "[Epoch   77/ 100] [Batch    9/   9] Loss:  1.52e-03\n",
            "[Epoch   78/ 100] [Batch    1/   9] Loss:  1.96e-03\n",
            "[Epoch   78/ 100] [Batch    2/   9] Loss:  1.52e-03\n",
            "[Epoch   78/ 100] [Batch    3/   9] Loss:  1.55e-03\n",
            "[Epoch   78/ 100] [Batch    4/   9] Loss:  1.52e-03\n",
            "[Epoch   78/ 100] [Batch    5/   9] Loss:  1.88e-03\n",
            "[Epoch   78/ 100] [Batch    6/   9] Loss:  1.58e-03\n",
            "[Epoch   78/ 100] [Batch    7/   9] Loss:  1.60e-03\n",
            "[Epoch   78/ 100] [Batch    8/   9] Loss:  1.82e-03\n",
            "[Epoch   78/ 100] [Batch    9/   9] Loss:  1.50e-03\n",
            "[Epoch   79/ 100] [Batch    1/   9] Loss:  1.47e-03\n",
            "[Epoch   79/ 100] [Batch    2/   9] Loss:  1.34e-03\n",
            "[Epoch   79/ 100] [Batch    3/   9] Loss:  1.73e-03\n",
            "[Epoch   79/ 100] [Batch    4/   9] Loss:  1.80e-03\n",
            "[Epoch   79/ 100] [Batch    5/   9] Loss:  1.33e-03\n",
            "[Epoch   79/ 100] [Batch    6/   9] Loss:  1.79e-03\n",
            "[Epoch   79/ 100] [Batch    7/   9] Loss:  2.21e-03\n",
            "[Epoch   79/ 100] [Batch    8/   9] Loss:  1.76e-03\n",
            "[Epoch   79/ 100] [Batch    9/   9] Loss:  1.32e-03\n",
            "[Epoch   80/ 100] [Batch    1/   9] Loss:  1.42e-03\n",
            "[Epoch   80/ 100] [Batch    2/   9] Loss:  1.94e-03\n",
            "[Epoch   80/ 100] [Batch    3/   9] Loss:  1.50e-03\n",
            "[Epoch   80/ 100] [Batch    4/   9] Loss:  1.30e-03\n",
            "[Epoch   80/ 100] [Batch    5/   9] Loss:  1.44e-03\n",
            "[Epoch   80/ 100] [Batch    6/   9] Loss:  1.81e-03\n",
            "[Epoch   80/ 100] [Batch    7/   9] Loss:  2.04e-03\n",
            "[Epoch   80/ 100] [Batch    8/   9] Loss:  1.76e-03\n",
            "[Epoch   80/ 100] [Batch    9/   9] Loss:  1.94e-03\n",
            "[Epoch   81/ 100] [Batch    1/   9] Loss:  1.60e-03\n",
            "[Epoch   81/ 100] [Batch    2/   9] Loss:  1.67e-03\n",
            "[Epoch   81/ 100] [Batch    3/   9] Loss:  1.95e-03\n",
            "[Epoch   81/ 100] [Batch    4/   9] Loss:  1.90e-03\n",
            "[Epoch   81/ 100] [Batch    5/   9] Loss:  1.85e-03\n",
            "[Epoch   81/ 100] [Batch    6/   9] Loss:  1.38e-03\n",
            "[Epoch   81/ 100] [Batch    7/   9] Loss:  1.47e-03\n",
            "[Epoch   81/ 100] [Batch    8/   9] Loss:  1.47e-03\n",
            "[Epoch   81/ 100] [Batch    9/   9] Loss:  2.40e-03\n",
            "[Epoch   82/ 100] [Batch    1/   9] Loss:  1.89e-03\n",
            "[Epoch   82/ 100] [Batch    2/   9] Loss:  1.85e-03\n",
            "[Epoch   82/ 100] [Batch    3/   9] Loss:  1.87e-03\n",
            "[Epoch   82/ 100] [Batch    4/   9] Loss:  1.62e-03\n",
            "[Epoch   82/ 100] [Batch    5/   9] Loss:  1.58e-03\n",
            "[Epoch   82/ 100] [Batch    6/   9] Loss:  1.38e-03\n",
            "[Epoch   82/ 100] [Batch    7/   9] Loss:  1.72e-03\n",
            "[Epoch   82/ 100] [Batch    8/   9] Loss:  1.44e-03\n",
            "[Epoch   82/ 100] [Batch    9/   9] Loss:  1.80e-03\n",
            "[Epoch   83/ 100] [Batch    1/   9] Loss:  1.65e-03\n",
            "[Epoch   83/ 100] [Batch    2/   9] Loss:  1.53e-03\n",
            "[Epoch   83/ 100] [Batch    3/   9] Loss:  1.48e-03\n",
            "[Epoch   83/ 100] [Batch    4/   9] Loss:  1.70e-03\n",
            "[Epoch   83/ 100] [Batch    5/   9] Loss:  2.07e-03\n",
            "[Epoch   83/ 100] [Batch    6/   9] Loss:  1.88e-03\n",
            "[Epoch   83/ 100] [Batch    7/   9] Loss:  1.47e-03\n",
            "[Epoch   83/ 100] [Batch    8/   9] Loss:  1.62e-03\n",
            "[Epoch   83/ 100] [Batch    9/   9] Loss:  1.58e-03\n",
            "[Epoch   84/ 100] [Batch    1/   9] Loss:  1.90e-03\n",
            "[Epoch   84/ 100] [Batch    2/   9] Loss:  2.06e-03\n",
            "[Epoch   84/ 100] [Batch    3/   9] Loss:  1.30e-03\n",
            "[Epoch   84/ 100] [Batch    4/   9] Loss:  1.35e-03\n",
            "[Epoch   84/ 100] [Batch    5/   9] Loss:  1.69e-03\n",
            "[Epoch   84/ 100] [Batch    6/   9] Loss:  1.82e-03\n",
            "[Epoch   84/ 100] [Batch    7/   9] Loss:  1.70e-03\n",
            "[Epoch   84/ 100] [Batch    8/   9] Loss:  1.51e-03\n",
            "[Epoch   84/ 100] [Batch    9/   9] Loss:  1.84e-03\n",
            "[Epoch   85/ 100] [Batch    1/   9] Loss:  1.81e-03\n",
            "[Epoch   85/ 100] [Batch    2/   9] Loss:  1.46e-03\n",
            "[Epoch   85/ 100] [Batch    3/   9] Loss:  2.10e-03\n",
            "[Epoch   85/ 100] [Batch    4/   9] Loss:  1.20e-03\n",
            "[Epoch   85/ 100] [Batch    5/   9] Loss:  1.84e-03\n",
            "[Epoch   85/ 100] [Batch    6/   9] Loss:  1.91e-03\n",
            "[Epoch   85/ 100] [Batch    7/   9] Loss:  1.50e-03\n",
            "[Epoch   85/ 100] [Batch    8/   9] Loss:  1.75e-03\n",
            "[Epoch   85/ 100] [Batch    9/   9] Loss:  1.27e-03\n",
            "[Epoch   86/ 100] [Batch    1/   9] Loss:  1.42e-03\n",
            "[Epoch   86/ 100] [Batch    2/   9] Loss:  1.33e-03\n",
            "[Epoch   86/ 100] [Batch    3/   9] Loss:  1.64e-03\n",
            "[Epoch   86/ 100] [Batch    4/   9] Loss:  1.54e-03\n",
            "[Epoch   86/ 100] [Batch    5/   9] Loss:  1.59e-03\n",
            "[Epoch   86/ 100] [Batch    6/   9] Loss:  1.93e-03\n",
            "[Epoch   86/ 100] [Batch    7/   9] Loss:  1.88e-03\n",
            "[Epoch   86/ 100] [Batch    8/   9] Loss:  1.64e-03\n",
            "[Epoch   86/ 100] [Batch    9/   9] Loss:  2.68e-03\n",
            "[Epoch   87/ 100] [Batch    1/   9] Loss:  1.61e-03\n",
            "[Epoch   87/ 100] [Batch    2/   9] Loss:  1.79e-03\n",
            "[Epoch   87/ 100] [Batch    3/   9] Loss:  1.76e-03\n",
            "[Epoch   87/ 100] [Batch    4/   9] Loss:  1.83e-03\n",
            "[Epoch   87/ 100] [Batch    5/   9] Loss:  1.61e-03\n",
            "[Epoch   87/ 100] [Batch    6/   9] Loss:  1.61e-03\n",
            "[Epoch   87/ 100] [Batch    7/   9] Loss:  1.46e-03\n",
            "[Epoch   87/ 100] [Batch    8/   9] Loss:  1.80e-03\n",
            "[Epoch   87/ 100] [Batch    9/   9] Loss:  2.24e-03\n",
            "[Epoch   88/ 100] [Batch    1/   9] Loss:  1.83e-03\n",
            "[Epoch   88/ 100] [Batch    2/   9] Loss:  1.58e-03\n",
            "[Epoch   88/ 100] [Batch    3/   9] Loss:  1.70e-03\n",
            "[Epoch   88/ 100] [Batch    4/   9] Loss:  1.81e-03\n",
            "[Epoch   88/ 100] [Batch    5/   9] Loss:  1.47e-03\n",
            "[Epoch   88/ 100] [Batch    6/   9] Loss:  1.80e-03\n",
            "[Epoch   88/ 100] [Batch    7/   9] Loss:  1.73e-03\n",
            "[Epoch   88/ 100] [Batch    8/   9] Loss:  1.71e-03\n",
            "[Epoch   88/ 100] [Batch    9/   9] Loss:  1.42e-03\n",
            "[Epoch   89/ 100] [Batch    1/   9] Loss:  1.82e-03\n",
            "[Epoch   89/ 100] [Batch    2/   9] Loss:  1.23e-03\n",
            "[Epoch   89/ 100] [Batch    3/   9] Loss:  1.90e-03\n",
            "[Epoch   89/ 100] [Batch    4/   9] Loss:  1.53e-03\n",
            "[Epoch   89/ 100] [Batch    5/   9] Loss:  1.43e-03\n",
            "[Epoch   89/ 100] [Batch    6/   9] Loss:  1.76e-03\n",
            "[Epoch   89/ 100] [Batch    7/   9] Loss:  1.66e-03\n",
            "[Epoch   89/ 100] [Batch    8/   9] Loss:  1.98e-03\n",
            "[Epoch   89/ 100] [Batch    9/   9] Loss:  1.68e-03\n",
            "[Epoch   90/ 100] [Batch    1/   9] Loss:  1.80e-03\n",
            "[Epoch   90/ 100] [Batch    2/   9] Loss:  1.28e-03\n",
            "[Epoch   90/ 100] [Batch    3/   9] Loss:  2.20e-03\n",
            "[Epoch   90/ 100] [Batch    4/   9] Loss:  1.64e-03\n",
            "[Epoch   90/ 100] [Batch    5/   9] Loss:  1.63e-03\n",
            "[Epoch   90/ 100] [Batch    6/   9] Loss:  1.71e-03\n",
            "[Epoch   90/ 100] [Batch    7/   9] Loss:  1.43e-03\n",
            "[Epoch   90/ 100] [Batch    8/   9] Loss:  1.61e-03\n",
            "[Epoch   90/ 100] [Batch    9/   9] Loss:  1.73e-03\n",
            "[Epoch   91/ 100] [Batch    1/   9] Loss:  1.56e-03\n",
            "[Epoch   91/ 100] [Batch    2/   9] Loss:  1.73e-03\n",
            "[Epoch   91/ 100] [Batch    3/   9] Loss:  1.54e-03\n",
            "[Epoch   91/ 100] [Batch    4/   9] Loss:  1.52e-03\n",
            "[Epoch   91/ 100] [Batch    5/   9] Loss:  1.92e-03\n",
            "[Epoch   91/ 100] [Batch    6/   9] Loss:  1.89e-03\n",
            "[Epoch   91/ 100] [Batch    7/   9] Loss:  1.60e-03\n",
            "[Epoch   91/ 100] [Batch    8/   9] Loss:  1.58e-03\n",
            "[Epoch   91/ 100] [Batch    9/   9] Loss:  1.60e-03\n",
            "[Epoch   92/ 100] [Batch    1/   9] Loss:  1.50e-03\n",
            "[Epoch   92/ 100] [Batch    2/   9] Loss:  1.60e-03\n",
            "[Epoch   92/ 100] [Batch    3/   9] Loss:  1.72e-03\n",
            "[Epoch   92/ 100] [Batch    4/   9] Loss:  1.59e-03\n",
            "[Epoch   92/ 100] [Batch    5/   9] Loss:  1.93e-03\n",
            "[Epoch   92/ 100] [Batch    6/   9] Loss:  1.71e-03\n",
            "[Epoch   92/ 100] [Batch    7/   9] Loss:  1.78e-03\n",
            "[Epoch   92/ 100] [Batch    8/   9] Loss:  1.22e-03\n",
            "[Epoch   92/ 100] [Batch    9/   9] Loss:  2.42e-03\n",
            "[Epoch   93/ 100] [Batch    1/   9] Loss:  1.53e-03\n",
            "[Epoch   93/ 100] [Batch    2/   9] Loss:  1.79e-03\n",
            "[Epoch   93/ 100] [Batch    3/   9] Loss:  1.92e-03\n",
            "[Epoch   93/ 100] [Batch    4/   9] Loss:  1.57e-03\n",
            "[Epoch   93/ 100] [Batch    5/   9] Loss:  1.83e-03\n",
            "[Epoch   93/ 100] [Batch    6/   9] Loss:  1.48e-03\n",
            "[Epoch   93/ 100] [Batch    7/   9] Loss:  1.25e-03\n",
            "[Epoch   93/ 100] [Batch    8/   9] Loss:  1.99e-03\n",
            "[Epoch   93/ 100] [Batch    9/   9] Loss:  1.77e-03\n",
            "[Epoch   94/ 100] [Batch    1/   9] Loss:  1.63e-03\n",
            "[Epoch   94/ 100] [Batch    2/   9] Loss:  1.72e-03\n",
            "[Epoch   94/ 100] [Batch    3/   9] Loss:  1.84e-03\n",
            "[Epoch   94/ 100] [Batch    4/   9] Loss:  1.70e-03\n",
            "[Epoch   94/ 100] [Batch    5/   9] Loss:  1.46e-03\n",
            "[Epoch   94/ 100] [Batch    6/   9] Loss:  1.45e-03\n",
            "[Epoch   94/ 100] [Batch    7/   9] Loss:  1.78e-03\n",
            "[Epoch   94/ 100] [Batch    8/   9] Loss:  1.73e-03\n",
            "[Epoch   94/ 100] [Batch    9/   9] Loss:  1.85e-03\n",
            "[Epoch   95/ 100] [Batch    1/   9] Loss:  1.99e-03\n",
            "[Epoch   95/ 100] [Batch    2/   9] Loss:  1.87e-03\n",
            "[Epoch   95/ 100] [Batch    3/   9] Loss:  1.48e-03\n",
            "[Epoch   95/ 100] [Batch    4/   9] Loss:  1.86e-03\n",
            "[Epoch   95/ 100] [Batch    5/   9] Loss:  1.62e-03\n",
            "[Epoch   95/ 100] [Batch    6/   9] Loss:  1.41e-03\n",
            "[Epoch   95/ 100] [Batch    7/   9] Loss:  1.50e-03\n",
            "[Epoch   95/ 100] [Batch    8/   9] Loss:  1.55e-03\n",
            "[Epoch   95/ 100] [Batch    9/   9] Loss:  1.77e-03\n",
            "[Epoch   96/ 100] [Batch    1/   9] Loss:  1.86e-03\n",
            "[Epoch   96/ 100] [Batch    2/   9] Loss:  1.69e-03\n",
            "[Epoch   96/ 100] [Batch    3/   9] Loss:  1.76e-03\n",
            "[Epoch   96/ 100] [Batch    4/   9] Loss:  1.51e-03\n",
            "[Epoch   96/ 100] [Batch    5/   9] Loss:  1.51e-03\n",
            "[Epoch   96/ 100] [Batch    6/   9] Loss:  1.70e-03\n"
          ]
        },
        {
          "name": "stdout",
          "output_type": "stream",
          "text": [
            "[Epoch   96/ 100] [Batch    7/   9] Loss:  1.85e-03\n",
            "[Epoch   96/ 100] [Batch    8/   9] Loss:  1.46e-03\n",
            "[Epoch   96/ 100] [Batch    9/   9] Loss:  1.52e-03\n",
            "[Epoch   97/ 100] [Batch    1/   9] Loss:  1.70e-03\n",
            "[Epoch   97/ 100] [Batch    2/   9] Loss:  1.87e-03\n",
            "[Epoch   97/ 100] [Batch    3/   9] Loss:  1.80e-03\n",
            "[Epoch   97/ 100] [Batch    4/   9] Loss:  1.77e-03\n",
            "[Epoch   97/ 100] [Batch    5/   9] Loss:  1.39e-03\n",
            "[Epoch   97/ 100] [Batch    6/   9] Loss:  1.46e-03\n",
            "[Epoch   97/ 100] [Batch    7/   9] Loss:  1.61e-03\n",
            "[Epoch   97/ 100] [Batch    8/   9] Loss:  1.74e-03\n",
            "[Epoch   97/ 100] [Batch    9/   9] Loss:  1.53e-03\n",
            "[Epoch   98/ 100] [Batch    1/   9] Loss:  1.70e-03\n",
            "[Epoch   98/ 100] [Batch    2/   9] Loss:  1.53e-03\n",
            "[Epoch   98/ 100] [Batch    3/   9] Loss:  1.54e-03\n",
            "[Epoch   98/ 100] [Batch    4/   9] Loss:  1.51e-03\n",
            "[Epoch   98/ 100] [Batch    5/   9] Loss:  1.69e-03\n",
            "[Epoch   98/ 100] [Batch    6/   9] Loss:  1.74e-03\n",
            "[Epoch   98/ 100] [Batch    7/   9] Loss:  2.08e-03\n",
            "[Epoch   98/ 100] [Batch    8/   9] Loss:  1.67e-03\n",
            "[Epoch   98/ 100] [Batch    9/   9] Loss:  1.33e-03\n",
            "[Epoch   99/ 100] [Batch    1/   9] Loss:  1.49e-03\n",
            "[Epoch   99/ 100] [Batch    2/   9] Loss:  1.58e-03\n",
            "[Epoch   99/ 100] [Batch    3/   9] Loss:  1.67e-03\n",
            "[Epoch   99/ 100] [Batch    4/   9] Loss:  1.79e-03\n",
            "[Epoch   99/ 100] [Batch    5/   9] Loss:  1.62e-03\n",
            "[Epoch   99/ 100] [Batch    6/   9] Loss:  1.82e-03\n",
            "[Epoch   99/ 100] [Batch    7/   9] Loss:  1.80e-03\n",
            "[Epoch   99/ 100] [Batch    8/   9] Loss:  1.50e-03\n",
            "[Epoch   99/ 100] [Batch    9/   9] Loss:  1.79e-03\n",
            "[Epoch  100/ 100] [Batch    1/   9] Loss:  1.71e-03\n",
            "[Epoch  100/ 100] [Batch    2/   9] Loss:  1.50e-03\n",
            "[Epoch  100/ 100] [Batch    3/   9] Loss:  1.63e-03\n",
            "[Epoch  100/ 100] [Batch    4/   9] Loss:  2.00e-03\n",
            "[Epoch  100/ 100] [Batch    5/   9] Loss:  1.66e-03\n",
            "[Epoch  100/ 100] [Batch    6/   9] Loss:  1.50e-03\n",
            "[Epoch  100/ 100] [Batch    7/   9] Loss:  1.90e-03\n",
            "[Epoch  100/ 100] [Batch    8/   9] Loss:  1.45e-03\n",
            "[Epoch  100/ 100] [Batch    9/   9] Loss:  1.67e-03\n"
          ]
        },
        {
          "data": {
            "text/plain": [
              "LinearModel(\n",
              "  (linear): Linear(in_features=1, out_features=1, bias=True)\n",
              ")"
            ]
          },
          "execution_count": 35,
          "metadata": {},
          "output_type": "execute_result"
        }
      ],
      "source": [
        "train_hist = {}\n",
        "train_hist['loss'] = []\n",
        "\n",
        "if input_dim == output_dim == 1:\n",
        "    train_hist['weight'] = []\n",
        "    train_hist['bias'] = []\n",
        "\n",
        "# Initialize training\n",
        "model.reset()\n",
        "model.train()\n",
        "\n",
        "for epoch in range(n_epochs):\n",
        "    for idx, batch in enumerate(train_loader):\n",
        "        optimizer.zero_grad()\n",
        "        loss = loss_fun(model.forward(batch[0]),  batch[1])\n",
        "        loss.backward()\n",
        "        optimizer.step()\n",
        "\n",
        "        train_hist['loss'].append(loss.item())\n",
        "        if input_dim == output_dim == 1:\n",
        "            train_hist['weight'].append(model.linear.weight.item())\n",
        "            train_hist['bias'].append(model.linear.bias.item())\n",
        "        \n",
        "        print('[Epoch %4d/%4d] [Batch %4d/%4d] Loss: % 2.2e' % (epoch + 1, n_epochs, \n",
        "                                                                idx + 1, len(train_loader), \n",
        "                                                                loss.item()))\n",
        "        \n",
        "model.eval()"
      ]
    },
    {
      "cell_type": "code",
      "execution_count": null,
      "metadata": {
        "id": "b5r8hz5icwMx"
      },
      "outputs": [],
      "source": [
        "if input_dim == output_dim == 1:\n",
        "    n_test = 500\n",
        "    X_test = np.random.rand(n_test, input_dim)\n",
        "    y_pred = []\n",
        "\n",
        "    state_dict = model.state_dict()\n",
        "\n",
        "    for idx in range(len(train_hist['weight'])):\n",
        "        state_dict['linear.weight'] = torch.tensor([[train_hist['weight'][idx]]])\n",
        "        state_dict['linear.bias'] = torch.tensor([train_hist['bias'][idx]])\n",
        "        model.load_state_dict(state_dict)\n",
        "\n",
        "        y_pred.append(model.forward(torch.tensor(X_test.astype('f'))).detach().numpy())    "
      ]
    },
    {
      "cell_type": "code",
      "execution_count": null,
      "metadata": {
        "id": "oA9vdH3ccwMx",
        "outputId": "fa1a2644-2884-430e-a7c3-89a1b44b5580"
      },
      "outputs": [
        {
          "data": {
            "image/png": "[encoded data removed]",
            "text/plain": [
              "<Figure size 1080x360 with 3 Axes>"
            ]
          },
          "metadata": {
            "needs_background": "light"
          },
          "output_type": "display_data"
        }
      ],
      "source": [
        "if input_dim == output_dim == 1:\n",
        "    fig = plt.figure(figsize=(15, 5))\n",
        "    fig.clf()\n",
        "    \n",
        "    ax = fig.add_subplot(1, 3, 1)\n",
        "    levels = np.logspace(np.log(np.min(loss_values)), np.log(np.max(loss_values)), 20)\n",
        "    ax.contourf(ww, bb, loss_values, levels=levels, norm=colors.LogNorm())\n",
        "    ax.plot(train_hist['weight'], train_hist['bias'], '.-b')\n",
        "    ax.plot(A[0], b, 'r*', markersize=10)\n",
        "    ax.set_xlabel('weight')\n",
        "    ax.set_ylabel('bias')\n",
        "    #ax.legend(['optim', '(A, b)'])\n",
        "    ax.grid(True)\n",
        "    ax.set_xlim(-2, 2) \n",
        "    ax.set_ylim(-2, 2) \n",
        "    \n",
        "    ax = fig.add_subplot(1, 3, 2)\n",
        "    ax.loglog(np.abs(train_hist['loss']))\n",
        "    ax.set_xlabel('Iter')\n",
        "    ax.set_ylabel('Loss')\n",
        "    ax.grid(True)\n",
        "    \n",
        "    ax = fig.add_subplot(1, 3, 3)\n",
        "    ax.plot(X_train, y_train, '.')\n",
        "    a=ax.plot(X_test, y_pred[0], '-', alpha=0.1)\n",
        "    for y in y_pred[1:]:\n",
        "        ax.plot(X_test, y, '-', alpha=0.1, color=a[0].get_color())\n",
        "    ax.plot(X_test, y_pred[-1], 'k')\n",
        "    ax.grid(True)   \n",
        "\n",
        "    fig.tight_layout()\n",
        "\n",
        "else:\n",
        "    fig = plt.figure()\n",
        "    fig.clf()\n",
        "    ax = fig.gca()\n",
        "    ax.loglog(np.abs(train_hist['loss']))\n",
        "    ax.set_xlabel('Iter')\n",
        "    ax.set_ylabel('Loss')\n",
        "    ax.grid(True)"
      ]
    },
    {
      "cell_type": "code",
      "execution_count": null,
      "metadata": {
        "id": "4I9gp3QbcwMx"
      },
      "outputs": [],
      "source": []
    }
  ],
  "metadata": {
    "colab": {
      "name": "Tutorial2.ipynb",
      "provenance": []
    },
    "interpreter": {
      "hash": "dc38d2cff126c501da9122a67be13d670bb47fba0ab869a4bcde640f3a064a5f"
    },
    "kernelspec": {
      "display_name": "Python 3.10.4 ('gnn')",
      "language": "python",
      "name": "python3"
    },
    "language_info": {
      "codemirror_mode": {
        "name": "ipython",
        "version": 3
      },
      "file_extension": ".py",
      "mimetype": "text/x-python",
      "name": "python",
      "nbconvert_exporter": "python",
      "pygments_lexer": "ipython3",
      "version": "3.7.13"
    }
  },
  "nbformat": 4,
  "nbformat_minor": 0
}
